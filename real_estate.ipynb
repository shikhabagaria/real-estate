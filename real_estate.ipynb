{
  "nbformat": 4,
  "nbformat_minor": 0,
  "metadata": {
    "colab": {
      "provenance": []
    },
    "kernelspec": {
      "name": "python3",
      "display_name": "Python 3"
    },
    "language_info": {
      "name": "python"
    }
  },
  "cells": [
    {
      "cell_type": "code",
      "execution_count": 1,
      "metadata": {
        "id": "BXTIQO1pQaRk"
      },
      "outputs": [],
      "source": [
        "import requests\n",
        "from bs4 import BeautifulSoup\n",
        "import pandas as pd\n",
        "import re"
      ]
    },
    {
      "cell_type": "code",
      "source": [
        "url = 'https://housing.com/rent/projects-gurgaon/all-societies'"
      ],
      "metadata": {
        "id": "56Duscd-QfJm"
      },
      "execution_count": 2,
      "outputs": []
    },
    {
      "cell_type": "code",
      "source": [
        "page = requests.get(url)"
      ],
      "metadata": {
        "id": "9_II7qEAQyci"
      },
      "execution_count": 3,
      "outputs": []
    },
    {
      "cell_type": "code",
      "source": [
        "page\n"
      ],
      "metadata": {
        "colab": {
          "base_uri": "https://localhost:8080/"
        },
        "id": "HqAS588KQ2XF",
        "outputId": "e686b6e9-986c-4887-ac58-a7e0f0f95192"
      },
      "execution_count": 4,
      "outputs": [
        {
          "output_type": "execute_result",
          "data": {
            "text/plain": [
              "<Response [200]>"
            ]
          },
          "metadata": {},
          "execution_count": 4
        }
      ]
    },
    {
      "cell_type": "code",
      "source": [
        "soup = BeautifulSoup(page.text, 'lxml')\n",
        "soup"
      ],
      "metadata": {
        "colab": {
          "base_uri": "https://localhost:8080/"
        },
        "id": "IDDSTmoqQ7Xb",
        "outputId": "646e5b0e-4a94-4d9b-9de1-0ee66a3e8fd8"
      },
      "execution_count": 5,
      "outputs": [
        {
          "output_type": "execute_result",
          "data": {
            "text/plain": [
              "<!DOCTYPE html>\n",
              "<html lang=\"en\" prefix=\"og: http://ogp.me/ns# website: http://ogp.me/ns/website#\"><head><link href=\"//c.housingcdn.com\" rel=\"preconnect\"/><link href=\"//is1-3.housingcdn.com\" rel=\"preconnect\"/><link href=\"//eventrouter.housing.com\" rel=\"preconnect\"/><meta content=\"AsgGWjPX2xx12aBpNxa8enFVy/0d/Ghc/GLjQO1gdmgn6eayydZJK0TGTifjIngm+7B4rWjfgVoyHZFbeKq0pg4AAABgeyJvcmlnaW4iOiJodHRwczovL2hvdXNpbmcuY29tOjQ0MyIsImZlYXR1cmUiOiJXYWtlTG9jayIsImV4cGlyeSI6MTU5MTA5NTk2MSwiaXNTdWJkb21haW4iOnRydWV9\" http-equiv=\"origin-trial\"/><meta content=\"no-referrer-when-downgrade\" name=\"referrer\"/><link as=\"image\" href=\"//c.housingcdn.com/growth/s/common/assets/loader.b6dcf7c7.svg\" rel=\"prefetch\"/><title itemprop=\"name\">List of All Rental Societies / Projects in Gurgaon | Housing.com</title><meta content=\"Find sorted list of rental projects in Gurgaon. Narrow your search by sorting alphabetically or by selecting top rental societies in Gurgaon.\" name=\"description\"/><meta content=\"!\" name=\"fragment\"/><meta content=\"text/plain; charset=x-user-defined\" name=\"http-equiv\"/><meta content=\"notranslate\" name=\"google\"/><meta content=\"c4cafc36edb4373d7f07486ad7222651\" name=\"p:domain_verify\"/><link href=\"//c.housingcdn.com/growth/s/common/assets/favicon1.b0244532.png\" rel=\"shortcut icon\" type=\"image/png\"/><link href=\"//c.housingcdn.com/growth/s/common/assets/logo-512.4e662fae.png\" rel=\"apple-touch-icon\" type=\"image/png\"/><link href=\"/osdd_new.xml\" rel=\"search\" type=\"application/opensearchdescription+xml\"/><meta content=\"black-translucent\" name=\"apple-mobile-web-app-status-bar-style\"/><link href=\"/manifest\" rel=\"manifest\"/><meta content=\"notranslate\" name=\"google\"/><meta content=\"purple-translucent\" name=\"apple-mobile-web-app-status-bar-style\"/><meta content=\"yes\" name=\"mobile-web-app-capable\"/><meta content=\"539826132696076\" property=\"fb:app_id\"/><meta content=\"https://housing.com/rent/projects-gurgaon/all-societies\" property=\"og:url\"/><meta content=\"https://housing.com/rent/projects-gurgaon/all-societies\" name=\"twitter:url\"/><meta content=\"List of All Rental Societies / Projects in Gurgaon | Housing.com\" property=\"og:title\"/><meta content=\"List of All Rental Societies / Projects in Gurgaon | Housing.com\" name=\"twitter:title\"/><meta content=\"Find sorted list of rental projects in Gurgaon. Narrow your search by sorting alphabetically or by selecting top rental societies in Gurgaon.\" property=\"og:description\"/><meta content=\"Find sorted list of rental projects in Gurgaon. Narrow your search by sorting alphabetically or by selecting top rental societies in Gurgaon.\" name=\"twitter:description\"/><meta content=\"//c.housingcdn.com/growth/s/common/assets/logo-512.4e662fae.png\" itemprop=\"image\"/><meta content=\"/browserconfig.xml\" name=\"msapplication-config\"/><meta content=\"//c.housingcdn.com/growth/s/common/assets/logo-512.4e662fae.png\" name=\"twitter:image:src\"/><meta content=\"//c.housingcdn.com/growth/s/common/assets/logo-512.4e662fae.png\" property=\"og:image\"/><meta content=\"Product\" property=\"og:type\"/><meta content=\"Summary\" name=\"twitter:card\"/><meta content=\"https://housing.com\" name=\"twitter:domain\"/><meta content=\"Housing\" property=\"og:site_name\"/><link href=\"https://plus.google.com/+Housing-com\" rel=\"author\" title=\"Housing.com\"/><meta content=\"Housing, Housing.com, real estate, flat, real estate India, apartment, real photos, map, property, property in india\" itemprop=\"keywords\"/><meta content=\"width=device-width,minimum-scale=1,initial-scale=1,user-scalable=0,maximum-scale=1\" name=\"viewport\"/><link href=\"https://housing.com/rent/projects-gurgaon/all-societies\" rel=\"canonical\"/><meta charset=\"utf-8\"/><meta content=\"C0AA5143039C306F4610CC7284436093\" name=\"msvalidate.01\"/><meta content=\"telephone=no\" name=\"format-detection\"/><style>*,::before,::after{box-sizing:border-box;margin:0;padding:0;font:inherit;-webkit-tap-highlight-color:transparent;-webkit-overflow-scrolling:touch;}@media (min-width:1100px){*,::before,::after{-webkit-font-smoothing:antialiased;}}::before,::after{-webkit-font-smoothing:antialiased;}html,body{height:100%;}.pixel{display:none;}html{font-size:14.5px;-ms-text-size-adjust:100%;-webkit-text-size-adjust:100%;}body{position:relative;font-family:Rubik,Helvetica,sans-serif;font-style:normal;-webkit-tap-highlight-color:transparent;}body.fixed{overflow:hidden;}@media (min-width:1100px){body{font-weight:300;}}a{background-color:transparent;color:inherit;-webkit-text-decoration:none;text-decoration:none;}b,strong{font-weight:500;}button,input,select{border:none;border-radius:0;outline:none;}input[type='number'],input[type='number']::-webkit-inner-spin-button,input[type='number']::-webkit-outer-spin-button{-webkit-appearance:textfield;-moz-appearance:textfield;appearance:textfield;}h2{font-weight:inherit;}img,a{border:none;outline:none;}select{background:transparent;-webkit-appearance:none;-moz-appearance:none;appearance:none;}ul{list-style:none;}.app{min-height:100%;}.css-1550ro3{position:fixed;bottom:10px;right:10px;z-index:3;}.css-br9peq{height:100%;}.css-br9peq:empty{height:300px;background:url(//c.housingcdn.com/growth/s/common/assets/apex-loader.d1aa6ec2.svg) no-repeat bottom;background-size:100px 100px;}.css-1fr5gv3{display:none;}.css-1fr5gv3 .moe-chrome-style-notification{box-shadow:0 0 4px #888;font-size:11px;font-weight:400;position:fixed;z-index:2147483647;}.css-1fr5gv3 .moe-chrome-style-notification-safari{width:'100%';top:0px;left:0;background-color:#fff;margin:0;padding:0;}@media (min-width:1100px){.css-1fr5gv3 .moe-chrome-style-notification-safari{top:1px;width:422px;left:calc(50% - 211px);}}.css-1fr5gv3 .moe-safari-notification-inner-wrapper{margin:0;padding:0 10px 4px;}@media (min-width:1100px){.css-1fr5gv3 .moe-safari-notification-inner-wrapper{padding:0 20px 10px;}}.css-1fr5gv3 .moe-notification-image-wrapper-safari{float:left;position:relative;margin:10px 0 0 0 !important;padding:0 !important;display:inline-block;}@media (min-width:1100px){.css-1fr5gv3 .moe-notification-image-wrapper-safari{margin:15px 15px 0 0 !important;}}.css-1fr5gv3 .moe-notification-image-wrapper-safari img{height:40px !important;width:40px !important;}@media (min-width:1100px){.css-1fr5gv3 .moe-notification-image-wrapper-safari img{height:65px !important;width:65px !important;}}.css-1fr5gv3 .moe-chrome-style-notification-safari *{word-spacing:normal !important;-webkit-letter-spacing:normal !important;-moz-letter-spacing:normal !important;-ms-letter-spacing:normal !important;letter-spacing:normal !important;font-family:'Open Sans',sans-serif !important;}.css-1fr5gv3 .moe-text-wrapper-safari{position:relative !important;padding:10px 0 0 !important;color:#000 !important;text-align:left !important;margin:0 !important;line-height:1.4em !important;display:inline-block !important;width:calc(100% - 40px) !important;}@media (min-width:1100px){.css-1fr5gv3 .moe-text-wrapper-safari{width:calc(100% - 80px) !important;}}.css-1fr5gv3 .moe-notification-title-safari{margin-bottom:5px;text-align:left;font-size:14px;font-weight:700;line-height:1.4em;color:#000;font-family:'Open Sans',sans-serif;}.css-1fr5gv3 .moe-notification-message-safari{font-size:17px !important;line-height:1.2em !important;padding:0 0 0 10px !important;text-align:left !important;font-family:'Helvetica Neue',Helvetica,Arial,Roboto,sans-serif,sans-serif !important;}@media (min-width:1100px){.css-1fr5gv3 .moe-notification-message-safari{font-size:12px !important;line-height:1.4em !important;margin:10px 0 !important;padding:0 !important;text-align:left !important;font-family:'Open Sans',sans-serif !important;}}.css-1fr5gv3 .moe-chrome-style-notification .moe-button-wrapper{float:right !important;margin:0 !important;padding:0 !important;}.css-1fr5gv3 .moe-chrome-style-notification-safari .moe-chrome-style-notification-btn.moe-btn-close{background:#fff !important;color:#000 !important;border-color:#ccc !important;margin-right:5px !important;width:120px !important;}@media (min-width:1100px){.css-1fr5gv3 .moe-chrome-style-notification-safari .moe-chrome-style-notification-btn.moe-btn-close{width:100px !important;margin-right:20px !important;}}.css-1fr5gv3 .moe-chrome-style-notification-safari .moe-chrome-style-notification-btn{width:120px !important;height:34px !important;font-size:14px !important;cursor:pointer !important;line-height:1.1em !important;border-radius:2px !important;color:#fff !important;background:linear-gradient(to bottom,#1dd38f,#1dd38f) !important;border:1px solid #1dd38f !important;display:inline-block !important;font-weight:400 !important;margin:0 !important;padding:5px !important;text-transform:none !important;box-sizing:border-box !important;font-family:Arial !important;text-shadow:none !important;box-shadow:none !important;white-space:nowrap !important;}@media (min-width:1100px){.css-1fr5gv3 .moe-chrome-style-notification-safari .moe-chrome-style-notification-btn{width:90px !important;height:26px !important;border-radius:4px !important;}}.css-10nbu1{object-fit:cover;height:40px !important;width:40px !important;}@media (min-width:1100px){.css-10nbu1{height:65px !important;width:65px !important;}}.css-13nesnm{clear:both;margin-top:15px;}@media (min-width:1100px){.css-13nesnm{margin-top:0px;}}@media (min-width:720px){.css-f4w7p7{background-color:#f4f4f4;}}.css-12htmn1{display:-webkit-box;display:-webkit-flex;display:-ms-flexbox;display:flex;-webkit-align-items:center;-webkit-box-align:center;-ms-flex-align:center;align-items:center;-webkit-box-pack:justify;-webkit-justify-content:space-between;-ms-flex-pack:justify;justify-content:space-between;position:-webkit-sticky;position:sticky;top:0;z-index:10;-webkit-transform:translateY(0);-ms-transform:translateY(0);transform:translateY(0);width:100%;height:44px;font-size:12.5px;background-color:#5e23dc;-webkit-transition:-webkit-transform 0.2s;-webkit-transition:transform 0.2s;transition:transform 0.2s;}.css-12bkj11{height:100%;padding:13px 0;width:173px;}.css-gdt6bj{object-fit:cover;height:18px;margin:0 16px;}.css-1y5yokb{position:relative;z-index:2;padding:0 14px;border-left:1px solid #0003;line-height:44px;color:#fff;background-color:#5e23dc;white-space:nowrap;cursor:pointer;width:192px;height:100%;overflow:hidden;white-space:nowrap;text-overflow:ellipsis;}.css-1y5yokb::after{display:inline-block;margin-left:8px;content:'\\e908';font-family:'housing_phoenix';font-size:10px;-webkit-transform:rotate(-90deg);-ms-transform:rotate(-90deg);transform:rotate(-90deg);display:inline-block;width:10px;}@media (min-width:1100px){.css-1y5yokb::after{font-size:10.5px;}}.css-10iahqc{text-transform:capitalize;}.css-96iqfb{position:absolute;bottom:100%;right:0;left:0;width:100%;height:187px;padding:24px 0;background-color:#5e23dc;display:-webkit-box;display:-webkit-flex;display:-ms-flexbox;display:flex;-webkit-flex-direction:column;-ms-flex-direction:column;flex-direction:column;-webkit-box-pack:start;-webkit-justify-content:flex-start;-ms-flex-pack:start;justify-content:flex-start;-webkit-align-items:center;-webkit-box-align:center;-ms-flex-align:center;align-items:center;gap:16px;}.css-70qvj9{display:-webkit-box;display:-webkit-flex;display:-ms-flexbox;display:flex;-webkit-align-items:center;-webkit-box-align:center;-ms-flex-align:center;align-items:center;}.css-1eqhcas{font-size:14px;color:#fff;}.css-epy3m2 .options-wrap{display:-webkit-box;display:-webkit-flex;display:-ms-flexbox;display:flex;-webkit-align-items:center;-webkit-box-align:center;-ms-flex-align:center;align-items:center;gap:8px;margin-left:8px;}.css-epy3m2 .option{padding:7px 16px;background-color:rgba(255,255,255,0.08);border:1px solid rgba(255,255,255,0.3);border-radius:71px;font-size:12px;line-height:14px;color:rgba(255,255,255,0.8);margin:unset;height:unset;-webkit-transition:all 0.3s;transition:all 0.3s;}.css-epy3m2 .option:hover{color:#5e23dc;border:1px solid #fff;background-color:#fff;padding:7px 16px;}.css-epy3m2 .active{color:#5e23dc;border:1px solid #fff;background-color:#fff;padding:7px 16px;}.css-9e057p{display:inline-block;margin:5px;padding:0 12px;height:36px;border-radius:18px;color:#757575;line-height:36px;background-color:#fff;border:solid 1px #e6e6e6;cursor:pointer;white-space:nowrap;overflow:hidden;white-space:nowrap;text-overflow:ellipsis;}@media (min-width:1100px){.css-9e057p{height:28px;font-size:12.5px;border-radius:14px;line-height:28px;}}.css-gq9pmi{display:inline-block;margin:5px;padding:0 12px;height:36px;border-radius:18px;color:#757575;line-height:36px;background-color:#fff;border:solid 1px #e6e6e6;cursor:pointer;white-space:nowrap;overflow:hidden;white-space:nowrap;text-overflow:ellipsis;background-color:#5e23dc;color:#fff;border-color:#5e23dc;}@media (min-width:1100px){.css-gq9pmi{height:28px;font-size:12.5px;border-radius:14px;line-height:28px;}}.css-1vr2anf{display:-webkit-box;display:-webkit-flex;display:-ms-flexbox;display:flex;-webkit-align-items:center;-webkit-box-align:center;-ms-flex-align:center;align-items:center;-webkit-flex-direction:column;-ms-flex-direction:column;flex-direction:column;}.css-17oiro3{position:relative;width:642px;height:51px;background-color:#f7f7f7;box-shadow:inset 0px 0px 8px 1px rgba(0,0,0,0.16);border-radius:71px;display:-webkit-box;display:-webkit-flex;display:-ms-flexbox;display:flex;-webkit-align-items:center;-webkit-box-align:center;-ms-flex-align:center;align-items:center;padding:0 4px 0 0;margin-bottom:16px;}.css-esm1x0{width:166px;height:51px;padding:0 16px 0 24px;background-color:#fff;box-shadow:0px 0px 16px rgba(0,0,0,0.5);border-radius:71px;display:-webkit-box;display:-webkit-flex;display:-ms-flexbox;display:flex;-webkit-box-pack:justify;-webkit-justify-content:space-between;-ms-flex-pack:justify;justify-content:space-between;-webkit-align-items:center;-webkit-box-align:center;-ms-flex-align:center;align-items:center;font-weight:500;cursor:pointer;}.css-hgqriy{font-size:16px;color:#333;overflow:hidden;white-space:nowrap;text-overflow:ellipsis;}.css-hs60h3:after{content:'\\e908';font-family:'housing_phoenix';-webkit-transform:rotate(270deg);-ms-transform:rotate(270deg);transform:rotate(270deg);font-size:12px;color:#5e23dc;display:inline-block;}.css-ex56ni{color:#ccc;font-size:18px;margin:0 12px 0 8px;}.css-c9ewo4{width:calc(100% - 281px);}.css-1mcghfl{display:-webkit-box;display:-webkit-flex;display:-ms-flexbox;display:flex;gap:8px;-webkit-flex-wrap:wrap;-ms-flex-wrap:wrap;flex-wrap:wrap;}.css-1u91o2g{display:inline-block;margin:0 2px;padding:0 10px;font-size:14px;line-height:34px;color:#fff;background-color:#5e23dc;border-radius:17px;cursor:pointer;padding:0 8px;margin:0;}@media (min-width:1100px){.css-1u91o2g{font-size:12.5px;border-radius:13px;line-height:25px;}}@media (min-width:1100px){.css-1u91o2g{font-size:12px;border-radius:80px;line-height:28px;}}.css-1u91o2g .pill-text{max-width:85px;overflow:hidden;white-space:nowrap;text-overflow:ellipsis;}.css-18pr1i1{display:inline-block;vertical-align:middle;overflow:hidden;white-space:nowrap;text-overflow:ellipsis;}.css-rwac9n{position:relative;padding-left:7px;-webkit-transform:rotate(45deg);-ms-transform:rotate(45deg);transform:rotate(45deg);}.css-rwac9n::before{font-size:8px;content:'\\e909';font-family:'housing_phoenix';}@media (min-width:1100px){.css-rwac9n::before{font-size:8.5px;}}.css-zns2pn{display:inline-block;margin:0 2px;padding:0 10px;font-size:14px;line-height:34px;color:#fff;background-color:#5e23dc;border-radius:17px;cursor:pointer;color:#5e23dc;border:solid 1px #5e23dc;background-color:#fff;padding:0 8px;margin:0;}@media (min-width:1100px){.css-zns2pn{font-size:12.5px;border-radius:13px;line-height:25px;}}@media (min-width:1100px){.css-zns2pn{font-size:12px;border-radius:80px;line-height:28px;}}.css-zns2pn .pill-text{max-width:85px;overflow:hidden;white-space:nowrap;text-overflow:ellipsis;}.css-gnwnc3{padding:0 14px;border:1px solid #1dd38f;font-size:14px;line-height:28px;color:#fff;background-color:#1dd38f;border-radius:2px;cursor:pointer;border-radius:20.5px;font-size:14px;line-height:17px;padding:13px 19px;margin-left:auto;border:unset;}@media (min-width:1100px){.css-gnwnc3{font-size:14.5px;}}.css-gnwnc3:disabled{pointer-events:none;background-color:#cdcdcd;border:1px solid #999;color:#999;}@media (min-width:1100px){.css-gnwnc3{font-size:14px;}}.css-1nnn6sc{position:absolute;top:0;right:0;left:0;z-index:1;height:100vh;background-color:#000;opacity:0;-webkit-transition:-webkit-transform 0.2s;-webkit-transition:transform 0.2s;transition:transform 0.2s;pointer-events:none;}.css-1vemqfm{height:100%;width:calc(100% - 800px);padding:5px 16px;border-left:1px solid #0003;}.css-19sk4h4{position:relative;}.css-si0pbr{display:-webkit-box;display:-webkit-flex;display:-ms-flexbox;display:flex;-webkit-align-items:center;-webkit-box-align:center;-ms-flex-align:center;align-items:center;padding:0 10px;background-color:#fff;border-radius:2px;height:34px;}.css-gwznrf{font-size:18px;color:#5e23dc;}.css-gwznrf::before{content:'\\e90a';font-family:'housing_phoenix';display:inline-block;width:18px;}@media (min-width:1100px){.css-gwznrf{font-size:18.5px;}}.css-hhnxrk{display:inline-block;margin:0 2px;padding:0 10px;font-size:14px;line-height:34px;color:#fff;background-color:#5e23dc;border-radius:17px;cursor:pointer;pointer-events:none;}@media (min-width:1100px){.css-hhnxrk{font-size:12.5px;border-radius:13px;line-height:25px;}}.css-hhnxrk .pill-text{max-width:100px;}.css-9vj7bz{display:inline-block;margin:0 2px;padding:0 10px;font-size:14px;line-height:34px;color:#fff;background-color:#5e23dc;border-radius:17px;cursor:pointer;color:#5e23dc;border:solid 1px #5e23dc;background-color:#fff;pointer-events:none;}@media (min-width:1100px){.css-9vj7bz{font-size:12.5px;border-radius:13px;line-height:25px;}}.css-9vj7bz .pill-text{max-width:100px;}.css-1ab6twn{display:-webkit-box;display:-webkit-flex;display:-ms-flexbox;display:flex;-webkit-align-items:center;-webkit-box-align:center;-ms-flex-align:center;align-items:center;margin-left:auto;}.rubik-header .css-1ab6twn{font-size:14.5px;}.css-ncyfvc{height:44px;padding:0 15px;border-left:1px solid #0003;line-height:44px;color:#fff;cursor:pointer;width:-webkit-max-content;width:-moz-max-content;width:max-content;overflow:hidden;}.css-ncyfvc:hover{background-color:#4e20b1;}.css-ncyfvc::before{position:relative;top:2px;margin-right:5px;font-size:15px;content:'\\e97b';font-family:'housing_phoenix';}@media (min-width:1100px){.css-ncyfvc::before{font-size:15.5px;}}.css-1r2krvc{margin:7px 10px 7px 10px;padding:6px;width:132px;line-height:18px;color:#5e23dc;background-color:#fff;text-transform:capitalize;border-radius:2px;box-shadow:0 2px 4px 0 rgba(0,0,0,0.2);cursor:pointer;}.rubik-header .css-1r2krvc{font-size:12.5px;}@media (max-width:1149px){.css-1r2krvc{display:none;}}.css-8bjsto{display:inline-block;margin-left:6px;padding:0 6px;font-size:10.5px;line-height:18px;color:#fff;background-color:#f22b68;}.css-e9vxf3{width:113px;}@media (max-width:1149px){.css-e9vxf3{display:none;}}.css-1d2tw04{height:44px;padding:0 15px;border-left:1px solid #0003;line-height:44px;color:#fff;cursor:pointer;}.css-1d2tw04:hover{background-color:#4e20b1;}.css-1d2tw04::before{position:relative;top:2px;margin-right:5px;font-size:15px;content:'\\e916';font-family:'housing_phoenix';}@media (min-width:1100px){.css-1d2tw04::before{font-size:15.5px;}}.css-qja2cj{position:relative;width:68px;height:32px;border-left:1px solid #0003;color:#fff;cursor:pointer;background-color:#fff;border-radius:21.5px;display:-webkit-box;display:-webkit-flex;display:-ms-flexbox;display:flex;-webkit-align-items:center;-webkit-box-align:center;-ms-flex-align:center;align-items:center;-webkit-box-pack:center;-webkit-justify-content:center;-ms-flex-pack:center;justify-content:center;margin-right:12px;}.css-qja2cj::before{content:'\\e90e';font-family:'housing_phoenix';color:#000;margin-right:10px;}.css-qja2cj:hover{background-color:#fff;}.css-6b61mz{object-fit:cover;height:24px;width:24px;}.css-jqtfa0{position:relative;z-index:100;}.css-1dy0oo6{top:0;left:0;right:0;bottom:0;display:none;position:fixed;background:rgba(0,0,0,0.6);}.css-173zc6t{background-color:#fff;color:#000;width:100%;height:100%;bottom:-100vh;left:0;font-weight:300;position:fixed;overflow:hidden auto;-webkit-transition:-webkit-transform 0.3s ease-out;-webkit-transition:transform 0.3s ease-out;transition:transform 0.3s ease-out;-webkit-mask-image:-webkit-radial-gradient(circle,white 100%,black 100%);}@media (min-width:1100px){.css-173zc6t{width:360px;bottom:0;left:100%;}}.css-aknk{position:relative;height:100vh;overflow:hidden auto;}.css-1r8j6uz{display:-webkit-box;display:-webkit-flex;display:-ms-flexbox;display:flex;-webkit-box-pack:justify;-webkit-justify-content:space-between;-ms-flex-pack:justify;justify-content:space-between;-webkit-align-items:center;-webkit-box-align:center;-ms-flex-align:center;align-items:center;padding:36px 22px 23px 16px;background-color:#f2f3f8;}.css-1hsa6j9{object-fit:cover;height:64px;width:64px;}.css-1qhmto6{margin-left:12px;}.css-urapr9{font-weight:500;font-size:12px;line-height:14px;color:#191919;margin-bottom:6px;}.css-1c24lhr{color:rgba(0,0,0,0.7);font-size:12px;line-height:16px;margin-top:2px;}.css-1c24lhr::before{content:'\\e939';font-family:'housing_phoenix';color:#55D6A7;font-weight:bold;font-size:12px;margin-right:4px;}.css-1x1ofwu{padding:0 14px;border:1px solid #1dd38f;font-size:14px;line-height:28px;color:#fff;background-color:#1dd38f;border-radius:2px;cursor:pointer;padding:0 17px;line-height:36px;border:unset;border-radius:8px;}@media (min-width:1100px){.css-1x1ofwu{font-size:14.5px;}}.css-1x1ofwu:disabled{pointer-events:none;background-color:#cdcdcd;border:1px solid #999;color:#999;}.css-13uh3bk{height:1px;background-image:radial-gradient(rgba(0,0,0,0.2),rgba(0,0,0,0.012));}.css-1tfy4rg{position:relative;padding:16px 16px 12px;border-radius:0 0 16px 16px;background:#F2F3F8;}.css-1tfy4rg::after{border-radius:6px;width:25px;height:25px;-webkit-transform:rotate(45deg);-ms-transform:rotate(45deg);transform:rotate(45deg);background-color:#f0ecff;position:absolute;z-index:-1;bottom:-9px;}.css-1wdo9tm{font-weight:500;font-size:16px;line-height:19px;color:#191919;margin-bottom:20px;}.css-j5eaa4{display:-webkit-box;display:-webkit-flex;display:-ms-flexbox;display:flex;gap:14px;}.css-ojkrwr{padding:5px 6px;width:calc((100vw - 74px) / 4);height:72px;border-radius:8px;text-align:center;color:#333333;display:-webkit-box;display:-webkit-flex;display:-ms-flexbox;display:flex;-webkit-flex-direction:column;-ms-flex-direction:column;flex-direction:column;-webkit-box-pack:center;-webkit-justify-content:center;-ms-flex-pack:center;justify-content:center;position:relative;cursor:pointer;background:#ffffff;border:1px solid #d4d4d4;}.css-ojkrwr::before{content:'\\e98f';font-family:'housing_phoenix';font-size:24px;color:#5E23DC;}.css-ojkrwr:hover{border:1px solid #5d46db;box-shadow:0px 0px 6px rgb(93 70 219 / 37%);}.css-1elfo5k{font-size:12px;line-height:14px;margin-top:5px;overflow:hidden;-webkit-line-clamp:2;display:-webkit-box;-webkit-box-orient:vertical;}.css-r611um{padding:5px 6px;width:calc((100vw - 74px) / 4);height:72px;border-radius:8px;text-align:center;color:#333333;display:-webkit-box;display:-webkit-flex;display:-ms-flexbox;display:flex;-webkit-flex-direction:column;-ms-flex-direction:column;flex-direction:column;-webkit-box-pack:center;-webkit-justify-content:center;-ms-flex-pack:center;justify-content:center;position:relative;cursor:pointer;background:#ffffff;border:1px solid #d4d4d4;}.css-r611um::before{content:'\\e97d';font-family:'housing_phoenix';font-size:24px;color:#5E23DC;}.css-r611um:hover{border:1px solid #5d46db;box-shadow:0px 0px 6px rgb(93 70 219 / 37%);}.css-ce4zsm{padding:5px 6px;width:calc((100vw - 74px) / 4);height:72px;border-radius:8px;text-align:center;color:#333333;display:-webkit-box;display:-webkit-flex;display:-ms-flexbox;display:flex;-webkit-flex-direction:column;-ms-flex-direction:column;flex-direction:column;-webkit-box-pack:center;-webkit-justify-content:center;-ms-flex-pack:center;justify-content:center;position:relative;cursor:pointer;background:#ffffff;border:1px solid #d4d4d4;}.css-ce4zsm::before{content:'\\e97e';font-family:'housing_phoenix';font-size:24px;color:#5E23DC;}.css-ce4zsm:hover{border:1px solid #5d46db;box-shadow:0px 0px 6px rgb(93 70 219 / 37%);}.css-11aiz5f{padding:5px 6px;width:calc((100vw - 74px) / 4);height:72px;border-radius:8px;text-align:center;color:#333333;display:-webkit-box;display:-webkit-flex;display:-ms-flexbox;display:flex;-webkit-flex-direction:column;-ms-flex-direction:column;flex-direction:column;-webkit-box-pack:center;-webkit-justify-content:center;-ms-flex-pack:center;justify-content:center;position:relative;cursor:pointer;background:#ffffff;border:1px solid #d4d4d4;}.css-11aiz5f::before{content:'\\e97c';font-family:'housing_phoenix';font-size:24px;color:#5E23DC;}.css-11aiz5f:hover{border:1px solid #5d46db;box-shadow:0px 0px 6px rgb(93 70 219 / 37%);}.css-1vom6bc{padding:16px;cursor:pointer;}.css-1vom6bc:hover{background-color:rgba(94,64,224,0.06);}.css-1vujrff{font-size:14px;line-height:17px;color:#333333;display:-webkit-box;display:-webkit-flex;display:-ms-flexbox;display:flex;-webkit-align-items:center;-webkit-box-align:center;-ms-flex-align:center;align-items:center;font-weight:400;}.css-1vujrff::before{content:'\\e97f';font-family:'housing_phoenix';font-size:24px;text-align:center;margin-right:16px;color:#4e4e4e;}.css-1vujrff::after{content:'\\e908';font-family:'housing_phoenix';content:unset;-webkit-transform:rotate(180deg);-ms-transform:rotate(180deg);transform:rotate(180deg);color:#b8b8b8;margin-left:auto;font-size:12px;-webkit-transition:-webkit-transform 0.3s;-webkit-transition:transform 0.3s;transition:transform 0.3s;}.css-1wqw7yt{display:-webkit-box;display:-webkit-flex;display:-ms-flexbox;display:flex;-webkit-flex-wrap:wrap;-ms-flex-wrap:wrap;flex-wrap:wrap;gap:8px;margin-top:16px;}.css-1v4d6i1{font-size:14px;line-height:17px;color:#333333;display:-webkit-box;display:-webkit-flex;display:-ms-flexbox;display:flex;-webkit-align-items:center;-webkit-box-align:center;-ms-flex-align:center;align-items:center;font-weight:400;}.css-1v4d6i1::before{content:'\\e98e';font-family:'housing_phoenix';font-size:24px;text-align:center;margin-right:16px;color:#4e4e4e;}.css-1v4d6i1::after{content:'\\e908';font-family:'housing_phoenix';-webkit-transform:rotate(270deg);-ms-transform:rotate(270deg);transform:rotate(270deg);color:#b8b8b8;margin-left:auto;font-size:12px;-webkit-transition:-webkit-transform 0.3s;-webkit-transition:transform 0.3s;transition:transform 0.3s;}.css-65fxg{width:76px;height:72px;padding:5px;text-align:center;border-radius:8px;background:#ffffff;border:1px solid #d4d4d4;display:-webkit-box;display:-webkit-flex;display:-ms-flexbox;display:flex;-webkit-flex-direction:column;-ms-flex-direction:column;flex-direction:column;}.css-65fxg::before{content:'\\e991';font-family:'housing_phoenix';font-size:24px;color:#4e4e4e;}.css-65fxg:hover{border:1px solid #5d46db;box-shadow:0px 0px 6px rgb(93 70 219 / 37%);}.css-csh84k{margin-top:6px;font-size:12px;line-height:14px;overflow:hidden;-webkit-line-clamp:2;display:-webkit-box;-webkit-box-orient:vertical;}.css-1bkjwzf{width:76px;height:72px;padding:5px;text-align:center;border-radius:8px;background:#ffffff;border:1px solid #d4d4d4;display:-webkit-box;display:-webkit-flex;display:-ms-flexbox;display:flex;-webkit-flex-direction:column;-ms-flex-direction:column;flex-direction:column;}.css-1bkjwzf::before{content:'\\e998';font-family:'housing_phoenix';font-size:24px;color:#4e4e4e;}.css-1bkjwzf:hover{border:1px solid #5d46db;box-shadow:0px 0px 6px rgb(93 70 219 / 37%);}.css-lwfz0b{width:76px;height:72px;padding:5px;text-align:center;border-radius:8px;background:#ffffff;border:1px solid #d4d4d4;display:-webkit-box;display:-webkit-flex;display:-ms-flexbox;display:flex;-webkit-flex-direction:column;-ms-flex-direction:column;flex-direction:column;}.css-lwfz0b::before{content:'\\e99c';font-family:'housing_phoenix';font-size:24px;color:#4e4e4e;}.css-lwfz0b:hover{border:1px solid #5d46db;box-shadow:0px 0px 6px rgb(93 70 219 / 37%);}.css-1pp6yxa{width:76px;height:72px;padding:5px;text-align:center;border-radius:8px;background:#ffffff;border:1px solid #d4d4d4;display:-webkit-box;display:-webkit-flex;display:-ms-flexbox;display:flex;-webkit-flex-direction:column;-ms-flex-direction:column;flex-direction:column;}.css-1pp6yxa::before{content:'\\e997';font-family:'housing_phoenix';font-size:24px;color:#4e4e4e;}.css-1pp6yxa:hover{border:1px solid #5d46db;box-shadow:0px 0px 6px rgb(93 70 219 / 37%);}.css-11ixykd{width:76px;height:72px;padding:5px;text-align:center;border-radius:8px;background:#ffffff;border:1px solid #d4d4d4;display:-webkit-box;display:-webkit-flex;display:-ms-flexbox;display:flex;-webkit-flex-direction:column;-ms-flex-direction:column;flex-direction:column;}.css-11ixykd::before{content:'\\e9a2';font-family:'housing_phoenix';font-size:24px;color:#4e4e4e;}.css-11ixykd:hover{border:1px solid #5d46db;box-shadow:0px 0px 6px rgb(93 70 219 / 37%);}.css-1n5a5fp{width:76px;height:72px;padding:5px;text-align:center;border-radius:8px;background:#ffffff;border:1px solid #d4d4d4;display:-webkit-box;display:-webkit-flex;display:-ms-flexbox;display:flex;-webkit-flex-direction:column;-ms-flex-direction:column;flex-direction:column;}.css-1n5a5fp::before{content:'\\e9b7';font-family:'housing_phoenix';font-size:24px;color:#4e4e4e;}.css-1n5a5fp:hover{border:1px solid #5d46db;box-shadow:0px 0px 6px rgb(93 70 219 / 37%);}.css-1t47w7x{font-size:14px;line-height:17px;color:#333333;display:-webkit-box;display:-webkit-flex;display:-ms-flexbox;display:flex;-webkit-align-items:center;-webkit-box-align:center;-ms-flex-align:center;align-items:center;font-weight:400;}.css-1t47w7x::before{content:'\\e984';font-family:'housing_phoenix';font-size:24px;text-align:center;margin-right:16px;color:#4e4e4e;}.css-1t47w7x::after{content:'\\e908';font-family:'housing_phoenix';-webkit-transform:rotate(270deg);-ms-transform:rotate(270deg);transform:rotate(270deg);color:#b8b8b8;margin-left:auto;font-size:12px;-webkit-transition:-webkit-transform 0.3s;-webkit-transition:transform 0.3s;transition:transform 0.3s;}.css-f8n8qb{width:76px;height:72px;padding:5px;text-align:center;border-radius:8px;background:#ffffff;border:1px solid #d4d4d4;display:-webkit-box;display:-webkit-flex;display:-ms-flexbox;display:flex;-webkit-flex-direction:column;-ms-flex-direction:column;flex-direction:column;}.css-f8n8qb::before{content:'\\e99e';font-family:'housing_phoenix';font-size:24px;color:#4e4e4e;}.css-f8n8qb:hover{border:1px solid #5d46db;box-shadow:0px 0px 6px rgb(93 70 219 / 37%);}.css-1cqmehh{font-size:14px;line-height:17px;color:#333333;display:-webkit-box;display:-webkit-flex;display:-ms-flexbox;display:flex;-webkit-align-items:center;-webkit-box-align:center;-ms-flex-align:center;align-items:center;font-weight:400;}.css-1cqmehh::before{content:'\\e987';font-family:'housing_phoenix';font-size:24px;text-align:center;margin-right:16px;color:#4e4e4e;}.css-1cqmehh::after{content:'\\e908';font-family:'housing_phoenix';-webkit-transform:rotate(270deg);-ms-transform:rotate(270deg);transform:rotate(270deg);color:#b8b8b8;margin-left:auto;font-size:12px;-webkit-transition:-webkit-transform 0.3s;-webkit-transition:transform 0.3s;transition:transform 0.3s;}.css-1u0yzza{width:76px;height:72px;padding:5px;text-align:center;border-radius:8px;background:#ffffff;border:1px solid #d4d4d4;display:-webkit-box;display:-webkit-flex;display:-ms-flexbox;display:flex;-webkit-flex-direction:column;-ms-flex-direction:column;flex-direction:column;}.css-1u0yzza::before{content:'\\e992';font-family:'housing_phoenix';font-size:24px;color:#4e4e4e;}.css-1u0yzza:hover{border:1px solid #5d46db;box-shadow:0px 0px 6px rgb(93 70 219 / 37%);}.css-req7jf{width:76px;height:72px;padding:5px;text-align:center;border-radius:8px;background:#ffffff;border:1px solid #d4d4d4;display:-webkit-box;display:-webkit-flex;display:-ms-flexbox;display:flex;-webkit-flex-direction:column;-ms-flex-direction:column;flex-direction:column;}.css-req7jf::before{content:'\\e99b';font-family:'housing_phoenix';font-size:24px;color:#4e4e4e;}.css-req7jf:hover{border:1px solid #5d46db;box-shadow:0px 0px 6px rgb(93 70 219 / 37%);}.css-1t3vlnv{width:76px;height:72px;padding:5px;text-align:center;border-radius:8px;background:#ffffff;border:1px solid #d4d4d4;display:-webkit-box;display:-webkit-flex;display:-ms-flexbox;display:flex;-webkit-flex-direction:column;-ms-flex-direction:column;flex-direction:column;}.css-1t3vlnv::before{content:'\\e988';font-family:'housing_phoenix';font-size:24px;color:#4e4e4e;}.css-1t3vlnv:hover{border:1px solid #5d46db;box-shadow:0px 0px 6px rgb(93 70 219 / 37%);}.css-1vtvr5o{width:76px;height:72px;padding:5px;text-align:center;border-radius:8px;background:#ffffff;border:1px solid #d4d4d4;display:-webkit-box;display:-webkit-flex;display:-ms-flexbox;display:flex;-webkit-flex-direction:column;-ms-flex-direction:column;flex-direction:column;}.css-1vtvr5o::before{content:'\\e9a5';font-family:'housing_phoenix';font-size:24px;color:#4e4e4e;}.css-1vtvr5o:hover{border:1px solid #5d46db;box-shadow:0px 0px 6px rgb(93 70 219 / 37%);}.css-wzi4py{font-size:14px;line-height:17px;color:#333333;display:-webkit-box;display:-webkit-flex;display:-ms-flexbox;display:flex;-webkit-align-items:center;-webkit-box-align:center;-ms-flex-align:center;align-items:center;font-weight:400;}.css-wzi4py::before{content:'\\e985';font-family:'housing_phoenix';font-size:24px;text-align:center;margin-right:16px;color:#4e4e4e;}.css-wzi4py::after{content:'\\e908';font-family:'housing_phoenix';content:unset;-webkit-transform:rotate(180deg);-ms-transform:rotate(180deg);transform:rotate(180deg);color:#b8b8b8;margin-left:auto;font-size:12px;-webkit-transition:-webkit-transform 0.3s;-webkit-transition:transform 0.3s;transition:transform 0.3s;}.css-1jvhiap{font-size:14px;line-height:17px;color:#333333;display:-webkit-box;display:-webkit-flex;display:-ms-flexbox;display:flex;-webkit-align-items:center;-webkit-box-align:center;-ms-flex-align:center;align-items:center;font-weight:400;}.css-1jvhiap::before{content:'\\e983';font-family:'housing_phoenix';font-size:24px;text-align:center;margin-right:16px;color:#4e4e4e;}.css-1jvhiap::after{content:'\\e908';font-family:'housing_phoenix';-webkit-transform:rotate(270deg);-ms-transform:rotate(270deg);transform:rotate(270deg);color:#b8b8b8;margin-left:auto;font-size:12px;-webkit-transition:-webkit-transform 0.3s;-webkit-transition:transform 0.3s;transition:transform 0.3s;}.css-68teg4{width:76px;height:72px;padding:5px;text-align:center;border-radius:8px;background:#ffffff;border:1px solid #d4d4d4;display:-webkit-box;display:-webkit-flex;display:-ms-flexbox;display:flex;-webkit-flex-direction:column;-ms-flex-direction:column;flex-direction:column;}.css-68teg4::before{content:'\\e9ad';font-family:'housing_phoenix';font-size:24px;color:#4e4e4e;}.css-68teg4:hover{border:1px solid #5d46db;box-shadow:0px 0px 6px rgb(93 70 219 / 37%);}.css-1a31txp{width:76px;height:72px;padding:5px;text-align:center;border-radius:8px;background:#ffffff;border:1px solid #d4d4d4;display:-webkit-box;display:-webkit-flex;display:-ms-flexbox;display:flex;-webkit-flex-direction:column;-ms-flex-direction:column;flex-direction:column;}.css-1a31txp::before{content:'\\e9ae';font-family:'housing_phoenix';font-size:24px;color:#4e4e4e;}.css-1a31txp:hover{border:1px solid #5d46db;box-shadow:0px 0px 6px rgb(93 70 219 / 37%);}.css-x4croi{padding:12px 16px;display:-webkit-box;display:-webkit-flex;display:-ms-flexbox;display:flex;-webkit-flex-direction:column;-ms-flex-direction:column;flex-direction:column;gap:20px;}.css-1lofkq{cursor:pointer;height:48px;border:1px solid rgba(151,151,151,0.3);border-radius:10px;font-size:14px;padding:0 16px;color:#5e23dc;display:-webkit-box;display:-webkit-flex;display:-ms-flexbox;display:flex;-webkit-align-items:center;-webkit-box-align:center;-ms-flex-align:center;align-items:center;}.css-1lofkq:hover{background-color:rgba(94,64,224,0.06);}.css-1lofkq::before{content:'\\e98d';font-family:'housing_phoenix';font-size:24px;margin-right:16px;color:#4e4e4e;}.css-1lofkq::after{content:'\\e908';font-family:'housing_phoenix';-webkit-transform:rotate(180deg);-ms-transform:rotate(180deg);transform:rotate(180deg);margin-left:auto;font-size:12px;color:#4e4e4e;}.css-1rahm72{cursor:pointer;height:48px;border:1px solid rgba(151,151,151,0.3);border-radius:10px;font-size:14px;padding:0 16px;color:#5e23dc;display:-webkit-box;display:-webkit-flex;display:-ms-flexbox;display:flex;-webkit-align-items:center;-webkit-box-align:center;-ms-flex-align:center;align-items:center;}.css-1rahm72:hover{background-color:rgba(94,64,224,0.06);}.css-1rahm72::before{content:'\\e982';font-family:'housing_phoenix';font-size:24px;margin-right:16px;color:#4e4e4e;}.css-1rahm72::after{content:'\\e908';font-family:'housing_phoenix';content:unset;-webkit-transform:rotate(180deg);-ms-transform:rotate(180deg);transform:rotate(180deg);margin-left:auto;font-size:12px;color:#4e4e4e;}.css-sumvun{color:#333;margin-left:auto;}.css-1yk43tc dl{background-color:#f2f3f8;z-index:1;width:100%;font-weight:500;list-style:none;padding:0;margin:0;-webkit-transition:-webkit-transform 0.3s ease-in-out;-webkit-transition:transform 0.3s ease-in-out;transition:transform 0.3s ease-in-out;-webkit-transform:translateX(100%);-ms-transform:translateX(100%);transform:translateX(100%);position:fixed;inset:0 0 0 0;overflow:hidden auto;pointer-events:none;}@media (min-width:1100px){.css-1yk43tc dl{-webkit-transform:translateX(360px);-ms-transform:translateX(360px);transform:translateX(360px);}}.css-1yk43tc dl dt{display:-webkit-box;display:-webkit-flex;display:-ms-flexbox;display:flex;-webkit-align-items:center;-webkit-box-align:center;-ms-flex-align:center;align-items:center;padding:16px;text-transform:capitalize;}.css-1yk43tc dl dd{font-size:14px;color:#333333;display:-webkit-box;display:-webkit-flex;display:-ms-flexbox;display:flex;-webkit-box-pack:justify;-webkit-justify-content:space-between;-ms-flex-pack:justify;justify-content:space-between;-webkit-align-items:center;-webkit-box-align:center;-ms-flex-align:center;align-items:center;text-transform:capitalize;overflow:hidden;white-space:nowrap;text-overflow:ellipsis;}.css-1yk43tc dl.selected{-webkit-transform:translateX(0);-ms-transform:translateX(0);transform:translateX(0);pointer-events:all;}.css-1yk43tc dd.separate{margin:30px 0 0 0;}.css-kfbfol::before{content:'\\e958';font-family:'housing_phoenix';font-size:16px;color:#767676;cursor:pointer;}.css-1v334uw{font-size:11px;line-height:16px;color:rgba(25,25,25,0.5);margin-left:16px;padding:16px;}.css-jb02n0{padding:16px 20px 32px 28px;gap:32px;display:-webkit-box;display:-webkit-flex;display:-ms-flexbox;display:flex;-webkit-flex-direction:column;-ms-flex-direction:column;flex-direction:column;}.css-69i1ev{display:-webkit-box;display:-webkit-flex;display:-ms-flexbox;display:flex;-webkit-box-pack:justify;-webkit-justify-content:space-between;-ms-flex-pack:justify;justify-content:space-between;-webkit-align-items:center;-webkit-box-align:center;-ms-flex-align:center;align-items:center;}.css-4vz99d{font-size:14px;color:#333333;}.css-lly09{width:22px;height:22px;background-color:#fff;border-radius:50%;border:solid 1px #5e23dc;display:-webkit-box;display:-webkit-flex;display:-ms-flexbox;display:flex;-webkit-box-pack:center;-webkit-justify-content:center;-ms-flex-pack:center;justify-content:center;-webkit-align-items:center;-webkit-box-align:center;-ms-flex-align:center;align-items:center;}.css-1hcpy1c{width:74%;height:74%;border-radius:50%;background-color:#5e23dc;}.css-1xg5a28{width:22px;height:22px;background-color:#fff;border-radius:50%;border:solid 1px #231f20;display:-webkit-box;display:-webkit-flex;display:-ms-flexbox;display:flex;-webkit-box-pack:center;-webkit-justify-content:center;-ms-flex-pack:center;justify-content:center;-webkit-align-items:center;-webkit-box-align:center;-ms-flex-align:center;align-items:center;}.css-19n1xx5{width:74%;height:74%;border-radius:50%;background-color:#fff;}.css-yibggk{display:-webkit-box;display:-webkit-flex;display:-ms-flexbox;display:flex;-webkit-box-pack:justify;-webkit-justify-content:space-between;-ms-flex-pack:justify;justify-content:space-between;padding:8px 8px 6px 16px;background-color:#f2f3f8;border-radius:10px;}.css-13ewv5y{display:-webkit-box;display:-webkit-flex;display:-ms-flexbox;display:flex;-webkit-flex-direction:column;-ms-flex-direction:column;flex-direction:column;margin:7px 0 6px 0;}.css-1b3xa19{font-size:14px;line-height:17px;color:#333333;}.css-1qwz5j2{margin-top:15px;display:-webkit-box;display:-webkit-flex;display:-ms-flexbox;display:flex;gap:8px;}.css-pi0yvt{height:28px;}.css-1tqfr3o{object-fit:cover;height:28px;}.css-jbf3eh{object-fit:cover;height:100%;width:74px;}.css-1oj4dvm{display:-webkit-box;display:-webkit-flex;display:-ms-flexbox;display:flex;-webkit-box-pack:justify;-webkit-justify-content:space-between;-ms-flex-pack:justify;justify-content:space-between;-webkit-align-items:center;-webkit-box-align:center;-ms-flex-align:center;align-items:center;padding:4px 16px 16px;color:#333;opacity:0.6;}.css-13t3iqc{display:-webkit-box;display:-webkit-flex;display:-ms-flexbox;display:flex;gap:32px;}.css-160t0en{color:#333;}.css-160t0en::before{content:'\\e980';font-family:'housing_phoenix';font-size:16px;}.css-160t0en:hover{color:#4064AD;}.css-1pf53ps{color:#333;}.css-1pf53ps::before{content:'\\e98a';font-family:'housing_phoenix';font-size:16px;}.css-1pf53ps:hover{color:#a630b7;}.css-1t11qa7{color:#333;}.css-1t11qa7::before{content:'\\e989';font-family:'housing_phoenix';font-size:16px;}.css-1t11qa7:hover{color:#0173b1;}.css-a3gf5b{color:#333;}.css-a3gf5b::before{content:'\\e98b';font-family:'housing_phoenix';font-size:16px;}.css-a3gf5b:hover{color:#5BA4D5;}.css-1165oc6{color:#333;}.css-1165oc6::before{content:'\\e98c';font-family:'housing_phoenix';font-size:16px;}.css-1165oc6:hover{color:#F60001;}.css-cp93dd{margin:0 auto 20px;max-width:1100px;}.css-18e8e50{font-size:20px;font-weight:500;margin:25px 10px 10px 15px;}.css-1u8occ9{display:-webkit-box;display:-webkit-flex;display:-ms-flexbox;display:flex;padding:8px 15px;}@media (min-width:1100px){.css-1u8occ9{max-width:690px;}}.css-12j0ttg{list-style-type:none;display:inline-block;padding:0;overflow:hidden;white-space:nowrap;text-overflow:ellipsis;}.css-1jqq5ut{display:inline;font-size:12px;line-height:14px;font-weight:400;color:#7f7f7f;}@media (min-width:1100px){.css-1jqq5ut{font-size:12.5px;}}.css-1jqq5ut:not(:last-of-type):after{content:'/';color:#000;padding:0 3px;}.css-1jqq5ut:last-of-type{pointer-events:none;}.css-ji2wbr:hover{color:#5e23dc;}.css-112w2rk{background:#fff;}@media (min-width:720px){.css-112w2rk{margin-bottom:24px;}}.css-j4o504{padding:32px;}@media (max-width:1099px){.css-j4o504{padding:16px 16px 32px;}}.css-11hqxyg{border:solid 1px #e4e4e4;font-size:16px;width:calc(100% - 44px);height:100%;padding:11px 12px 12px;}@media (min-width:720px){.css-11hqxyg{width:390px;}}.css-1fa4h7t{padding:0 14px;border:1px solid #1dd38f;font-size:14px;line-height:28px;color:#fff;background-color:#1dd38f;border-radius:2px;cursor:pointer;font-size:16px;padding:6px 14px;border-radius:0;}@media (min-width:1100px){.css-1fa4h7t{font-size:14.5px;}}.css-1fa4h7t:disabled{pointer-events:none;background-color:#cdcdcd;border:1px solid #999;color:#999;}@media (max-width:719px){.css-1fa4h7t{width:44px;overflow:hidden;}}.css-1fa4h7t::before{position:relative;top:2px;margin-right:12px;content:'\\e90a';font-family:'housing_phoenix';}.css-12duwuh{display:-webkit-box;display:-webkit-flex;display:-ms-flexbox;display:flex;-webkit-box-pack:justify;-webkit-justify-content:space-between;-ms-flex-pack:justify;justify-content:space-between;overflow:auto;}@media (max-width:1099px){.css-12duwuh{padding:0 16px;}}.css-sofn5{white-space:nowrap;padding:10px;border:solid 1px #e4e4e4;border-right-width:0;-webkit-box-flex:1;-webkit-flex-grow:1;-ms-flex-positive:1;flex-grow:1;border-bottom:solid 3px #5e23dc;}.css-1ruopo1{width:38px;height:40px;-webkit-flex-shrink:0;-ms-flex-negative:0;flex-shrink:0;padding:12px 10px;border:solid 1px #e4e4e4;text-transform:uppercase;text-align:center;padding:12px 10px;}.css-1ruopo1 + a{border-left:0;}.css-179hk66{display:grid;grid-template-columns:repeat(auto-fit,minmax(320px,1fr));grid-gap:17px 15px;padding:35px 16px;background-color:#fff;}.css-4huaz2{display:inline-block;font-size:16px;vertical-align:top;color:#5e23dc;}@media (max-width:719px){.css-4huaz2{width:100%;}.css-4huaz2::after{content:'\\e92f';font-family:'housing_phoenix';margin-left:9px;}}.css-mztzjf{background-color:#191919;}.css-tkm64s{display:-webkit-box;display:-webkit-flex;display:-ms-flexbox;display:flex;-webkit-box-pack:center;-webkit-justify-content:center;-ms-flex-pack:center;justify-content:center;-webkit-align-items:center;-webkit-box-align:center;-ms-flex-align:center;align-items:center;font-size:36px;font-weight:400;color:#333;background-color:#fff;padding-bottom:36px;padding-top:36px;}.css-12z0wuy{margin-right:8px;}.css-f2xdfe{width:200px;height:52px;display:inline-block;}.css-cwrfmo{object-fit:cover;width:200px;}.css-1s85d9h{text-align:left;background:#1f1f1f;border-top:1px solid #252525;padding:10px;}@media (min-width:1100px){.css-1s85d9h{text-align:center;padding:30px 10px;}}.css-2gr9fd{display:inline-block;vertical-align:top;font-size:13px;line-height:16px;color:#888;opacity:0.6;font-weight:400;}@media (min-width:1100px){.css-2gr9fd{line-height:30px;position:absolute;left:35px;font-size:13.5px;}}.css-1ou0f0u{display:inline-block;background-repeat:no-repeat;background-size:cover;opacity:.6;margin:0 60px;background-image:url(//c.housingcdn.com/growth/s/common/assets/footerPartner.340d98a8.png);width:130px;height:38px;background-position:59% 10%;background-size:497%;}.css-1ou0f0u:hover{opacity:1;}@media (max-width:1100px){.css-1ou0f0u{margin:0 10px;}}@media (max-width:1100px){.css-1ou0f0u{width:80px;height:20px;background-position:59% 40%;background-size:527%;}}.css-1kl3woj{display:inline-block;background-repeat:no-repeat;background-size:cover;opacity:.6;margin:0 60px;background-image:url(//c.housingcdn.com/growth/s/common/assets/footerPartner.340d98a8.png);width:120px;height:38px;background-position:77% 35%;background-size:694%;}.css-1kl3woj:hover{opacity:1;}@media (max-width:1100px){.css-1kl3woj{margin:0 10px;}}@media (max-width:1100px){.css-1kl3woj{width:80px;height:21px;background-position:77% 26%;background-size:694%;}}.css-hwj3a4{display:inline-block;background-repeat:no-repeat;background-size:cover;opacity:.6;margin:0 60px;background-image:url(//c.housingcdn.com/growth/s/common/assets/footerPartner.340d98a8.png);width:70px;height:38px;background-position:24%;background-size:1000%;}.css-hwj3a4:hover{opacity:1;}@media (max-width:1100px){.css-hwj3a4{margin:0 10px;}}@media (max-width:1100px){.css-hwj3a4{width:50px;height:19px;background-position:24%;background-size:962%;}}.css-1n55fa5{height:100%;width:100%;overflow:auto;padding:10px;background:#000;margin:0;}@media (min-width:1100px){.css-1n55fa5{padding:0;margin-top:10px;}}@media (min-width:1100px){.css-1n55fa5{padding:30px 0;background:#191919;width:95vw;margin:0 auto;}}.css-1n55fa5 .item-cont{width:1350px;}@media (min-width:1100px){.css-1n55fa5 .item-cont{width:100%;}}.css-1n55fa5 .item{display:inline-block;color:#7f7f7f;font-weight:400;font-size:14px;line-height:24px;width:300px;padding:0px;}@media (min-width:1100px){.css-1n55fa5 .item{width:100%;font-size:12.5px;line-height:28px;-webkit-letter-spacing:0.5px;-moz-letter-spacing:0.5px;-ms-letter-spacing:0.5px;letter-spacing:0.5px;margin:0;}}.css-1n55fa5 .item-xshort{display:inline-block;width:200px;}@media (min-width:1100px){.css-1n55fa5 .item-xshort{width:12%;margin:0;}}.css-1n55fa5 .item-short{display:inline-block;width:200px;}@media (min-width:1100px){.css-1n55fa5 .item-short{width:15%;margin:0;}}.css-1n55fa5 .item-medium{display:inline-block;width:200px;}@media (min-width:1100px){.css-1n55fa5 .item-medium{width:15.5%;margin:0;}}.css-1n55fa5 .item-long{display:inline-block;width:250px;}@media (min-width:1100px){.css-1n55fa5 .item-long{width:19.5%;margin:0;}}.css-1n55fa5 .item-xlong{display:inline-block;width:300px;}@media (min-width:1100px){.css-1n55fa5 .item-xlong{width:22%;margin:0;}}.css-t99auo{color:black;font-size:16px;font-weight:500;line-height:30px;overflow:hidden;white-space:nowrap;text-overflow:ellipsis;padding:5px 0;display:block;}@media (min-width:1100px){.css-t99auo{font-size:12.5px;line-height:26px;margin-bottom:10px;}}@media (min-width:1100px){.css-t99auo{display:inline-block;margin-left:20px;width:200px;color:#7f7f7f;}}.css-91v8jw{padding:30px 15px;}@media (min-width:1100px){.css-91v8jw{padding:50px 10px;border-top:1px solid #252525;display:-webkit-box;display:-webkit-flex;display:-ms-flexbox;display:flex;}}.css-engvuj{text-align:center;height:140px;}@media (min-width:1100px){.css-engvuj{text-align:left;-webkit-flex:1;-ms-flex:1;flex:1;display:inline-block;height:200px;padding:0 20px 0 60px;position:relative;}}.css-13l26vb{height:34px;padding-bottom:16px;}.css-1r4u39l{height:18px;}@media (min-width:1100px){.css-1r4u39l{height:24px;width:184px;}}.css-1buw33f{object-fit:cover;height:18px;}@media (min-width:1100px){.css-1buw33f{height:24px;width:184px;}}.css-5j9vdr{padding-top:34px;display:-webkit-box;display:-webkit-flex;display:-ms-flexbox;display:flex;-webkit-align-items:center;-webkit-box-align:center;-ms-flex-align:center;align-items:center;}.css-1iv04fv{height:84px;width:200px;margin-right:12px;object-fit:contain;}.css-1j4c20c{object-fit:cover;height:84px;width:200px;margin-right:12px;object-fit:contain;}.css-1gonrs4{height:72px;}.css-6agzg2{object-fit:cover;height:72px;}.css-8hd1rh{color:white;font-size:10px;margin-top:16px;}.css-1bhi1o7{display:-webkit-box;display:-webkit-flex;display:-ms-flexbox;display:flex;height:60px;width:250px;-webkit-align-items:center;-webkit-box-align:center;-ms-flex-align:center;align-items:center;-webkit-box-pack:justify;-webkit-justify-content:space-between;-ms-flex-pack:justify;justify-content:space-between;}.css-4g6ai3{cursor:pointer;}.css-xckiz9{object-fit:cover;}.css-1dvedly{font-size:12px;color:#999;background-color:#000;padding:10px 0;text-align:center;}@media (min-width:1100px){.css-1dvedly{background-color:#191919;color:#7f7f7f;font-size:11.5px;text-align:left;padding:0;}}.css-6s0hl6{margin-top:30px;display:-webkit-box;display:-webkit-flex;display:-ms-flexbox;display:flex;overflow:auto;}@media (min-width:1100px){.css-6s0hl6{margin:0;-webkit-flex:3;-ms-flex:3;flex:3;white-space:noWrap;display:-webkit-box;display:-webkit-flex;display:-ms-flexbox;display:flex;-webkit-box-pack:space-around;-webkit-justify-content:space-around;-ms-flex-pack:space-around;justify-content:space-around;margin-left:50px;}}.css-mwxbls{border:1px solid #7f7f7f;margin-right:30px;-webkit-box-pack:space-around;-webkit-justify-content:space-around;-ms-flex-pack:space-around;justify-content:space-around;}@media (min-width:1100px){.css-mwxbls{border:none;margin-right:0px;display:inline-block;vertical-align:top;width:24%;}}.css-g9daoc{color:white;font-size:11px;text-transform:uppercase;font-weight:500;margin-bottom:20px;-webkit-letter-spacing:1px;-moz-letter-spacing:1px;-ms-letter-spacing:1px;letter-spacing:1px;background-color:#7f7f7f;padding:15px;}@media (min-width:1100px){.css-g9daoc{background-color:unset;padding:0px;font-size:11.5px;}}.css-xclhr7{display:-webkit-box;display:-webkit-flex;display:-ms-flexbox;display:flex;-webkit-flex-direction:column;-ms-flex-direction:column;flex-direction:column;margin:0px 10px 15px 0px;}@media (min-width:1100px){.css-xclhr7{margin:0px;}}.css-yafbxc{font-size:14px;font-weight:400;color:white;margin:8px 15px;}@media (min-width:1100px){.css-yafbxc{color:#7f7f7f;cursor:pointer;font-size:12.5px;line-height:28px;margin:0px;display:block;}.css-yafbxc:hover{color:#fff;}}.css-1rr4qq7{-webkit-flex:1;-ms-flex:1;flex:1;}.css-u0r3im{color:white;font-size:10px;}.css-144wazg{display:-webkit-box;display:-webkit-flex;display:-ms-flexbox;display:flex;margin-top:22px;height:30px;}.css-1ixlxnz{object-fit:cover;height:30px;}.css-lsijmh{object-fit:cover;margin-left:9px;height:30px;}.css-5v54ys{display:-webkit-box;display:-webkit-flex;display:-ms-flexbox;display:flex;margin-top:24px;height:84px;}.css-5v54ys img{height:100%;width:84px;}.css-oui9pb{color:#7f7f7f;font-size:10px;width:94px;margin-left:16px;display:-webkit-box;display:-webkit-flex;display:-ms-flexbox;display:flex;-webkit-align-items:center;-webkit-box-align:center;-ms-flex-align:center;align-items:center;}</style></head><body><div class=\"app\" id=\"app\"><style>\n",
              "  @font-face {\n",
              "    font-family: 'housing_phoenix';\n",
              "    font-display: swap;\n",
              "    src: local('housing_phoenix'), url('//c.housingcdn.com/growth/s/common/assets/style.4c7fc7e1.woff2') format('woff2'), url('//c.housingcdn.com/growth/s/common/assets/style.488e0af7.woff') format('woff'), url('//c.housingcdn.com/growth/s/common/assets/style.dcbff5ac.ttf') format('truetype');\n",
              "    font-weight: normal;\n",
              "    font-style: normal;\n",
              "  }\n",
              "    </style><style>\n",
              "  @font-face {\n",
              "    font-family: 'Rubik';\n",
              "    font-display: swap;\n",
              "    font-weight: 400;\n",
              "    font-style: normal;\n",
              "    src: url('//c.housingcdn.com/growth/s/common/assets/regular.6f75f467.woff2');\n",
              "  }\n",
              "  @font-face {\n",
              "    font-family: 'Rubik';\n",
              "    font-display: swap;\n",
              "    font-weight: 500;\n",
              "    font-style: normal;\n",
              "    src: url('//c.housingcdn.com/growth/s/common/assets/medium.c9b650d9.woff2');\n",
              "  }\n",
              "</style><div class=\"css-1550ro3\"></div><div class=\"css-br9peq\" id=\"innerApp\"><div class=\"moe-main-class css-1fr5gv3\"><div class=\"moe-chrome-style-notification moe-chrome-style-notification-safari\" data-rapid_height=\"50\"><div class=\"moe-safari-notification-inner-wrapper\"><div class=\"moe-notification-image-wrapper-safari\"><img alt=\"housing-logo\" class=\"img css-10nbu1\" decoding=\"async\" src=\"//c.housingcdn.com/growth/s/common/assets/housing-logo.63062901.png\"/></div><div class=\"moe-text-wrapper-safari\"><span class=\"moe-notification-title-safari\">Don't Miss out! Get notified of new homes as soon as they are posted</span><p class=\"moe-notification-message-safari\">Notifications can be turned off anytime from browser settings.</p></div><div class=\"css-13nesnm\"><div class=\"moe-button-wrapper\"><button class=\"moe-chrome-style-notification-btn moe-btn-close moe-block-class\">Not Now</button><button class=\"moe-chrome-style-notification-btn moe-btn-allow moe-allow-class\">Allow</button></div><div class=\"css-13nesnm\"></div></div></div></div></div><div class=\"css-f4w7p7\"><header class=\" css-12htmn1\" data-q=\"header\"><a class=\"home-logo css-12bkj11\" data-q=\"home-logo\" href=\"/\"><img alt=\"Housing.com\" class=\"img css-gdt6bj\" decoding=\"async\" src=\"//c.housingcdn.com/growth/s/common/assets/housing.df1a39a7.png\"/></a><div data-q=\"city-select\"><div class=\"css-1y5yokb\"><span class=\"css-10iahqc\">Rent  in Gurgaon</span></div><div class=\"css-96iqfb\"><div class=\"css-70qvj9\"><span class=\"css-1eqhcas\">I'm Looking to</span><div class=\"sel-cont css-epy3m2\"><div class=\"options-wrap\"><div class=\"option css-9e057p\"><span class=\"css-0\">Buy</span></div><div class=\"option active css-gq9pmi\"><span class=\"css-0\">Rent</span></div><div class=\"option css-9e057p\"><span class=\"css-0\">Commercial</span></div><div class=\"option css-9e057p\"><span class=\"css-0\">PG/Co-Living</span></div><div class=\"option css-9e057p\"><span class=\"css-0\">Flatmates</span></div></div></div></div><div class=\"css-1vr2anf\"><div class=\"css-17oiro3\"><div class=\"css-esm1x0\"><div class=\"css-hgqriy\">Gurgaon</div><div class=\"css-hs60h3\"></div></div><div class=\"css-ex56ni\">|</div><div class=\"css-c9ewo4\"><div class=\"css-1mcghfl\"><div class=\"pill-container css-1u91o2g\"><span class=\"pill-text css-18pr1i1\">Gurgaon</span><span class=\"css-rwac9n\"></span></div><div class=\"pill-container css-zns2pn\"><span class=\"pill-text css-18pr1i1\">Add +</span></div></div></div><button class=\"cta css-gnwnc3\">Search</button></div></div></div><div class=\"city-select-overlay css-1nnn6sc\"></div></div><div class=\"css-1vemqfm\"><div class=\"css-19sk4h4\"><div data-q=\"search-head\"><label class=\"css-si0pbr\"><span class=\"css-gwznrf\"></span><div class=\"pill-container css-hhnxrk\"><span class=\"pill-text css-18pr1i1\">Gurgaon</span><span class=\"css-rwac9n\"></span></div><div class=\"pill-container css-9vj7bz\"><span class=\"pill-text css-18pr1i1\">+ Add</span></div></label></div></div></div><div class=\"css-1ab6twn\"><a class=\"css-0\" data-q=\"downloadApp\" href=\"/apps\" target=\"_blank\"><div class=\"section css-ncyfvc\">Download App</div></a><a class=\"css-1r2krvc\" data-q=\"lyp\" href=\"https://seller.housing.com/my-listings/new/basic\">List Property<span class=\"css-8bjsto\">Free</span></a><a class=\"css-e9vxf3\" data-q=\"favorites\" href=\"/user-profile/saved-properties\"><div class=\"section css-1d2tw04\">Saved</div></a><div class=\"css-qja2cj\" data-q=\"side-menu\"><img class=\"img css-6b61mz\" decoding=\"async\" src=\"//c.housingcdn.com/growth/s/common/assets/tenant-avatar.81d688a4.png\"/></div></div></header><div class=\"css-jqtfa0\" data-q=\"sidemenu\"><div class=\"css-1dy0oo6\"></div><div class=\"css-173zc6t\"><div class=\"css-aknk\"><div class=\"css-1r8j6uz\"><div class=\"css-70qvj9\"><img class=\"img css-1hsa6j9\" decoding=\"async\" src=\"//c.housingcdn.com/growth/s/common/assets/tenant-avatar.81d688a4.png\"/><div class=\"css-1qhmto6\"><div class=\"css-urapr9\">Hello 👋🏻</div><div class=\"css-1c24lhr\">Easy Contact with sellers</div><div class=\"css-1c24lhr\">Personalized experience</div></div></div><button class=\"cta css-1x1ofwu\">Login</button></div><div class=\"css-13uh3bk\"></div><div class=\"css-1tfy4rg\"><div class=\"css-1wdo9tm\">My Activity</div><div class=\"css-j5eaa4\"><div class=\"css-ojkrwr\"><div class=\"css-1elfo5k\">Contacted Properties</div></div><div class=\"css-r611um\"><div class=\"css-1elfo5k\">Seen Properties</div></div><div class=\"css-ce4zsm\"><div class=\"css-1elfo5k\">Saved Properties</div></div><div class=\"css-11aiz5f\"><div class=\"css-1elfo5k\">Recent Searches</div></div></div></div><div class=\"css-1vom6bc\"><div class=\"css-1vujrff\">My Transactions</div><div class=\"css-1wqw7yt\"></div></div><div class=\"css-13uh3bk\"></div><div class=\"css-1vom6bc\"><div class=\"css-1v4d6i1\">Quick Links</div><div class=\"css-1wqw7yt\"><a class=\"css-65fxg\" href=\"/\"><div class=\"css-csh84k\">Home</div></a><a class=\"css-1bkjwzf\" href=\"/owner-packages\"><div class=\"css-csh84k\">Owner Packages</div></a><a class=\"css-lwfz0b\" href=\"/rent-sell-property\"><div class=\"css-csh84k\">Post Properties</div></a><a class=\"css-1pp6yxa\" href=\"/news\"><div class=\"css-csh84k\">News</div></a><a class=\"css-11ixykd\" href=\"/research-reports\"><div class=\"css-csh84k\">Research</div></a><a class=\"css-1n5a5fp\" href=\"/report-fraud\"><div class=\"css-csh84k\">Report a Fraud</div></a></div></div><div class=\"css-1vom6bc\"><div class=\"css-1t47w7x\">Housing Edge</div><div class=\"css-1wqw7yt\"><a class=\"css-f8n8qb\" href=\"/edge/rent-receipt-generator\"><div class=\"css-csh84k\">Rent Receipt Generator</div></a></div></div><div class=\"css-1vom6bc\"><div class=\"css-1cqmehh\">Services</div><div class=\"css-1wqw7yt\"><a class=\"css-1u0yzza\" href=\"/in/buy/real-estate-gurgaon\"><div class=\"css-csh84k\">Buy Properties</div></a><a class=\"css-lwfz0b\" href=\"/rent/property-for-rent-in-gurgaon\"><div class=\"css-csh84k\">Rent Properties</div></a><a class=\"css-req7jf\" href=\"/paying-guests/pgs-in-gurgaon\"><div class=\"css-csh84k\">PG/Co-Living</div></a><a class=\"css-1t3vlnv\" href=\"/home-loans\"><div class=\"css-csh84k\">Apply for Home Loan</div></a><a class=\"css-1vtvr5o\" href=\"/home-loans-emi-calculator\"><div class=\"css-csh84k\">EMI Calculator</div></a></div></div><div class=\"css-1vom6bc\"><div class=\"css-wzi4py\">Unsubscribe Alerts</div><div class=\"css-1wqw7yt\"></div></div><div class=\"css-1vom6bc\"><div class=\"css-1jvhiap\">Housing Advice</div><div class=\"css-1wqw7yt\"><a class=\"css-68teg4\" href=\"/buying-guide\"><div class=\"css-csh84k\">Buying Guide</div></a><a class=\"css-1a31txp\" href=\"https://www.indianrealestateforum.com/\"><div class=\"css-csh84k\">Indian Forum</div></a></div></div><div class=\"css-x4croi\"><div class=\"css-1lofkq\"> <!-- -->Visit Help Center</div><div class=\"css-1rahm72\"><div>Preferred Language</div><div class=\"css-sumvun\">भाषा बदलें</div><div class=\"css-1yk43tc\"><dl id=\"0-0\"><dt><span class=\"css-kfbfol\"></span><span class=\"css-1v334uw\">Preferred Language</span></dt><div class=\"css-jb02n0\"><a class=\"css-69i1ev\" data-q=\"no-mod\" href=\"#\"><div class=\"css-4vz99d\">English</div><div class=\"css-lly09\"><div class=\"css-1hcpy1c\"></div></div></a><a class=\"css-69i1ev\" data-q=\"no-mod\" href=\"https://housing.com/hi/rent/projects-gurgaon/all-societies\"><div class=\"css-4vz99d\">हिंदी</div><div class=\"css-1xg5a28\"><div class=\"css-19n1xx5\"></div></div></a></div></dl></div></div><div class=\"css-yibggk\"><div class=\"css-13ewv5y\"><div class=\"css-1b3xa19\">Download Housing App</div><div class=\"css-1qwz5j2\"><a class=\"css-0\" href=\"https://apps.apple.com/in/app/property-search-by-housing-com/id967257660?referrer=utm_source=inhouse-housing&amp;utm_medium=desktop&amp;utm_campaign=hamburger\" target=\"_blank\"><img class=\"css-1tqfr3o\" decoding=\"async\" src=\"//c.housingcdn.com/growth/s/common/assets/app-store.29706cde.png\"/></a><a class=\"css-0\" href=\"https://play.google.com/store/apps/details?id=com.locon.housing&amp;referrer=utm_source=inhouse-housing&amp;utm_medium=desktop&amp;utm_campaign=hamburger\" target=\"_blank\"><img class=\"css-1tqfr3o\" decoding=\"async\" src=\"//c.housingcdn.com/growth/s/common/assets/google-play.b94036af.png\"/></a></div></div><img class=\"img css-jbf3eh\" decoding=\"async\" src=\"//c.housingcdn.com/growth/s/common/assets/qr-code.da92c2f2.png\"/></div></div><div class=\"css-1oj4dvm\"><div>Follow on</div><div class=\"css-13t3iqc\"><a class=\"css-160t0en\" href=\"http://www.facebook.com/housing.co.in\"></a><a class=\"css-1pf53ps\" href=\"https://instagram.com/housingindia/\"></a><a class=\"css-1t11qa7\" href=\"https://www.linkedin.com/company/housing-com/\"></a><a class=\"css-a3gf5b\" href=\"https://twitter.com/housing\"></a><a class=\"css-1165oc6\" href=\"https://www.youtube.com/user/HousingY\"></a></div></div></div><div id=\"renderItemRoot\"></div></div></div><div class=\"css-cp93dd\"><h1 class=\"css-18e8e50\">List of All Rental Societies in Gurgaon</h1><section class=\"css-1u8occ9\" data-q=\"breadcrumbs\"><ul class=\"breadcrumb-item css-12j0ttg\"><li class=\"breadcrumb-list css-1jqq5ut\"><a class=\"breadcrumb-list css-ji2wbr\" href=\"/\" target=\"_blank\">Home</a></li><li class=\"breadcrumb-list css-1jqq5ut\"><a class=\"breadcrumb-list css-ji2wbr\" href=\"/rent/projects-all-cities\" target=\"_blank\">Rental Projects - All Cities</a></li><li class=\"breadcrumb-list css-1jqq5ut\" data-q=\"leaf-bc\"><a class=\"breadcrumb-list css-ji2wbr\" href=\"/rent/projects-gurgaon/all-societies\" target=\"_blank\">All Rental Societies in  Gurgaon</a></li></ul><script type=\"application/ld+json\">{\"@context\":\"http://schema.org\",\"@type\":\"BreadcrumbList\",\"itemListElement\":[{\"@type\":\"ListItem\",\"position\":0,\"item\":{\"@id\":\"/\",\"name\":\"Home\"}},{\"@type\":\"ListItem\",\"position\":1,\"item\":{\"@id\":\"/rent/projects-all-cities\",\"name\":\"Rental Projects - All Cities\"}},{\"@type\":\"ListItem\",\"position\":2,\"item\":{\"@id\":\"/rent/projects-gurgaon/all-societies\",\"name\":\"All Rental Societies in  Gurgaon\"}}]}</script></section><div class=\"css-112w2rk\"><div class=\"css-j4o504\"><input class=\"css-11hqxyg\" placeholder=\"Search by Society Name\"/><button class=\"cta css-1fa4h7t\">Search</button></div><div class=\"css-12duwuh\"><a class=\"css-sofn5\" href=\"/rent/projects-gurgaon/all-societies\">Top Societies</a><a class=\"css-1ruopo1\" href=\"/rent/projects-gurgaon/all-societies-a\">a</a><a class=\"css-1ruopo1\" href=\"/rent/projects-gurgaon/all-societies-b\">b</a><a class=\"css-1ruopo1\" href=\"/rent/projects-gurgaon/all-societies-c\">c</a><a class=\"css-1ruopo1\" href=\"/rent/projects-gurgaon/all-societies-d\">d</a><a class=\"css-1ruopo1\" href=\"/rent/projects-gurgaon/all-societies-e\">e</a><a class=\"css-1ruopo1\" href=\"/rent/projects-gurgaon/all-societies-f\">f</a><a class=\"css-1ruopo1\" href=\"/rent/projects-gurgaon/all-societies-g\">g</a><a class=\"css-1ruopo1\" href=\"/rent/projects-gurgaon/all-societies-h\">h</a><a class=\"css-1ruopo1\" href=\"/rent/projects-gurgaon/all-societies-i\">i</a><a class=\"css-1ruopo1\" href=\"/rent/projects-gurgaon/all-societies-j\">j</a><a class=\"css-1ruopo1\" href=\"/rent/projects-gurgaon/all-societies-k\">k</a><a class=\"css-1ruopo1\" href=\"/rent/projects-gurgaon/all-societies-l\">l</a><a class=\"css-1ruopo1\" href=\"/rent/projects-gurgaon/all-societies-m\">m</a><a class=\"css-1ruopo1\" href=\"/rent/projects-gurgaon/all-societies-n\">n</a><a class=\"css-1ruopo1\" href=\"/rent/projects-gurgaon/all-societies-o\">o</a><a class=\"css-1ruopo1\" href=\"/rent/projects-gurgaon/all-societies-p\">p</a><a class=\"css-1ruopo1\" href=\"/rent/projects-gurgaon/all-societies-q\">q</a><a class=\"css-1ruopo1\" href=\"/rent/projects-gurgaon/all-societies-r\">r</a><a class=\"css-1ruopo1\" href=\"/rent/projects-gurgaon/all-societies-s\">s</a><a class=\"css-1ruopo1\" href=\"/rent/projects-gurgaon/all-societies-t\">t</a><a class=\"css-1ruopo1\" href=\"/rent/projects-gurgaon/all-societies-u\">u</a><a class=\"css-1ruopo1\" href=\"/rent/projects-gurgaon/all-societies-v\">v</a><a class=\"css-1ruopo1\" href=\"/rent/projects-gurgaon/all-societies-w\">w</a><a class=\"css-1ruopo1\" href=\"/rent/projects-gurgaon/all-societies-x\">x</a><a class=\"css-1ruopo1\" href=\"/rent/projects-gurgaon/all-societies-y\">y</a><a class=\"css-1ruopo1\" href=\"/rent/projects-gurgaon/all-societies-z\">z</a></div></div><div class=\"css-179hk66\" data-q=\"allCities\"><a class=\"css-4huaz2\" href=\"/rent/m3m-sierra-68-for-rent-in-sector-68-gurgaon-AGrkiAH0\" target=\"_blank\">M3M Sierra 68 Rent</a><a class=\"css-4huaz2\" href=\"/rent/arete-our-homes---3-for-rent-in-sector-6-sohna-gurgaon-AG9vxAH0\" target=\"_blank\">Arete Our Homes - 3 Rent</a><a class=\"css-4huaz2\" href=\"/rent/shapoorji-pallonji-joyville-for-rent-in-sector-102-gurgaon-AG2r0wAH0\" target=\"_blank\">Shapoorji Pallonji JoyVille Rent</a><a class=\"css-4huaz2\" href=\"/rent/dlf-new-town-heights-for-rent-in-sector-86-gurgaon-AGpr3AH0\" target=\"_blank\">DLF New Town Heights Rent</a><a class=\"css-4huaz2\" href=\"/rent/pyramid-urban-homes-ii-for-rent-in-sector-86-gurgaon-AG18b4AH0\" target=\"_blank\">Pyramid Urban Homes II Rent</a><a class=\"css-4huaz2\" href=\"/rent/apex-our-homes-for-rent-in-sector-37c-gurgaon-AG27s9AH0\" target=\"_blank\">Apex Our Homes Rent</a><a class=\"css-4huaz2\" href=\"/rent/dlf-the-ultima-for-rent-in-sector-81-gurgaon-AG35uAH0\" target=\"_blank\">DLF The Ultima Rent</a><a class=\"css-4huaz2\" href=\"/rent/dlf-the-crest-for-rent-in-sector-54-gurgaon-AGqlaAH0\" target=\"_blank\">DLF The Crest Rent</a><a class=\"css-4huaz2\" href=\"/rent/ats-triumph-for-rent-in-sector-104-AG2bAH0\" target=\"_blank\">ATS Triumph Rent</a><a class=\"css-4huaz2\" href=\"/rent/emaar-the-palm-drive-for-rent-in-sector-66-AGpshAH0\" target=\"_blank\">Emaar The Palm Drive Rent</a><a class=\"css-4huaz2\" href=\"/rent/mapsko-mount-ville-for-rent-in-sector-79-gurgaon-AG1kpAH0\" target=\"_blank\">Mapsko Mount Ville Rent</a><a class=\"css-4huaz2\" href=\"/rent/experion-the-heartsong-for-rent-in-sector-108-gurgaon-AG6cAH0\" target=\"_blank\">Experion The Heartsong Rent</a><a class=\"css-4huaz2\" href=\"/rent/dlf-regal-gardens-for-rent-in-sector-90-gurgaon-AG2svAH0\" target=\"_blank\">DLF Regal Gardens Rent</a><a class=\"css-4huaz2\" href=\"/rent/breez-global-heights-for-rent-in-sector-33-sohna-gurgaon-AGqp7AH0\" target=\"_blank\">Breez Global Heights Rent</a><a class=\"css-4huaz2\" href=\"/rent/sobha-city-for-rent-in-sector-108-gurgaon-AGqj5AH0\" target=\"_blank\">Sobha City Rent</a><a class=\"css-4huaz2\" href=\"/rent/godrej-summit-for-rent-in-sector-104-AG2grAH0\" target=\"_blank\">Godrej Summit Rent</a><a class=\"css-4huaz2\" href=\"/rent/microtek-greenburg-for-rent-in-sector-86-gurgaon-AG9dAH0\" target=\"_blank\">Microtek Greenburg Rent</a><a class=\"css-4huaz2\" href=\"/rent/emaar-palm-hills-for-rent-in-sector-77-AGpsfAH0\" target=\"_blank\">Emaar Palm Hills Rent</a><a class=\"css-4huaz2\" href=\"/rent/godrej-habitat-for-rent-in-sector-3-gurgaon-AG2v7fAH0\" target=\"_blank\">Godrej Habitat Rent</a><a class=\"css-4huaz2\" href=\"/rent/signature-global-superbia-for-rent-in-sector-95-gurgaon-AG5ejvAH0\" target=\"_blank\">Signature Global Superbia Rent</a><a class=\"css-4huaz2\" href=\"/rent/emaar-gurgaon-greens-for-rent-in-sector-102-gurgaon-AGps5AH0\" target=\"_blank\">Emaar Gurgaon Greens Rent</a><a class=\"css-4huaz2\" href=\"/rent/advance-india-aipl-the-peaceful-homes-for-rent-in-sector-70a-golf-course-extension-road-AG1p0AH0\" target=\"_blank\">AIPL The Peaceful Homes Rent</a><a class=\"css-4huaz2\" href=\"/rent/emaar-marbella-for-rent-in-sector-66-AGps3AH0\" target=\"_blank\">Emaar Marbella Rent</a><a class=\"css-4huaz2\" href=\"/rent/central-park-town-houses-for-rent-in-sector-48-gurgaon-AGyzgAH0\" target=\"_blank\">Central Park Town Houses Rent</a><a class=\"css-4huaz2\" href=\"/rent/adani-aangan-for-rent-in-sector-89a-gurgaon-AGqvaAH0\" target=\"_blank\">Adani Aangan Rent</a><a class=\"css-4huaz2\" href=\"/rent/ireo-victory-valley-for-rent-in-sector-67-gurgaon-AG19xAH0\" target=\"_blank\">Ireo Victory Valley Rent</a><a class=\"css-4huaz2\" href=\"/rent/m3m-golf-estate-for-rent-in-sector-65-golf-course-extension-road-AG7xvAH0\" target=\"_blank\">M3M Golf Estate Rent</a><a class=\"css-4huaz2\" href=\"/rent/tata-housing-development-la-vida-for-rent-in-sector-113-gurgaon-AGrb5AH0\" target=\"_blank\">TATA Housing Development La Vida Rent</a><a class=\"css-4huaz2\" href=\"/rent/tulip-violet-for-rent-in-sector-69-gurgaon-AG6fnAH0\" target=\"_blank\">Tulip Violet Rent</a><a class=\"css-4huaz2\" href=\"/rent/pyramid-urban-67a-for-rent-in-sector-67-golf-course-extension-road-AG14l0AH0\" target=\"_blank\">Pyramid Urban 67A Rent</a><a class=\"css-4huaz2\" href=\"/rent/bestech-park-view-grand-spa-for-rent-in-sector-81-gurgaon-AGlcAH0\" target=\"_blank\">Bestech Park View Grand Spa Rent</a><a class=\"css-4huaz2\" href=\"/rent/avl-36-for-rent-in-sector-36-industrial-hub-AGrh1AH0\" target=\"_blank\">AVL 36  Rent</a><a class=\"css-4huaz2\" href=\"/rent/m3m-marina-for-rent-in-sector-68-gurgaon-AGtunAH0\" target=\"_blank\">M3M Marina Rent</a><a class=\"css-4huaz2\" href=\"/rent/godrej-101-for-rent-in-sector-79-AGptnAH0\" target=\"_blank\">Godrej 101 Rent</a><a class=\"css-4huaz2\" href=\"/rent/dlf-the-primus-for-rent-in-sector-82a-gurgaon-AG2suAH0\" target=\"_blank\">DLF The Primus Rent</a><a class=\"css-4huaz2\" href=\"/rent/adani-brahma-samsara-vilasa-for-rent-in-sector-63-gurgaon-AG37smAH0\" target=\"_blank\">Adani Brahma Samsara Vilasa Rent</a><a class=\"css-4huaz2\" href=\"/rent/m3m-escala-for-rent-in-sector-70a-golf-course-extension-road-AG80wAH0\" target=\"_blank\">M3M Escala Rent</a><a class=\"css-4huaz2\" href=\"/rent/lotus-homz-for-rent-in-sector-110a-gurgaon-AGrc7AH0\" target=\"_blank\">Lotus Homz Rent</a><a class=\"css-4huaz2\" href=\"/rent/emaar-emerald-floors-for-rent-in-sector-65-golf-course-extension-road-AGporAH0\" target=\"_blank\">Emaar Emerald Floors Rent</a><a class=\"css-4huaz2\" href=\"/rent/puri-diplomatic-greens-for-rent-in-sector-110a-gurgaon-AGd2AH0\" target=\"_blank\">Puri Diplomatic Greens Rent</a><a class=\"css-4huaz2\" href=\"/rent/emaar-emerald-floors-premier-phase-3-for-rent-in-sector-65-golf-course-extension-road-AG18axAH0\" target=\"_blank\">Emaar Emerald Floors Premier Phase 3 Rent</a><a class=\"css-4huaz2\" href=\"/rent/vatika-lifestyle-homes-for-rent-in-sector-83-gurgaon-AGtuoAH0\" target=\"_blank\">Vatika Lifestyle Homes Rent</a><a class=\"css-4huaz2\" href=\"/rent/tata-housing-primanti-vertilla-for-rent-in-sector-72-gurgaon-AGa17AH0\" target=\"_blank\">Tata Housing Primanti Vertilla Rent</a><a class=\"css-4huaz2\" href=\"/rent/vatika-city-homes-for-rent-in-sector-83-gurgaon-AGpxvAH0\" target=\"_blank\">Vatika City Homes Rent</a><a class=\"css-4huaz2\" href=\"/rent/chintels-serenity-for-rent-in-sector-109-gurgaon-AGa7AH0\" target=\"_blank\">Chintels Serenity Rent</a><a class=\"css-4huaz2\" href=\"/rent/vatika-plots-vatika-india-next-for-rent-in-sector-82-gurgaon-AG1nplAH0\" target=\"_blank\">Vatika Plots Vatika India Next Rent</a><a class=\"css-4huaz2\" href=\"/rent/godrej-oasis-for-rent-in-sector-88a-gurgaon-AGv8AH0\" target=\"_blank\">Godrej Oasis Rent</a><a class=\"css-4huaz2\" href=\"/rent/puri-emerald-bay-for-rent-in-sector-104-AGzuAH0\" target=\"_blank\">Puri Emerald Bay Rent</a><a class=\"css-4huaz2\" href=\"/rent/advance-india-aipl-zen-residences-for-rent-in-sector-70a-golf-course-extension-road-AGrcdAH0\" target=\"_blank\">AIPL Zen Residences Rent</a><a class=\"css-4huaz2\" href=\"/rent/ats-tourmaline-for-rent-in-sector-109-gurgaon-AGnqyAH0\" target=\"_blank\">ATS Tourmaline Rent</a><a class=\"css-4huaz2\" href=\"/rent/adani-m2k-oyster-grande-for-rent-in-sector-102-gurgaon-AGk3gAH0\" target=\"_blank\">Adani M2K Oyster Grande Rent</a><a class=\"css-4huaz2\" href=\"/rent/m3m-woodshire-for-rent-in-sector-107-AG813AH0\" target=\"_blank\">M3M Woodshire Rent</a><a class=\"css-4huaz2\" href=\"/rent/central-park-flamingo-floors-for-rent-in-sector-32-sohna-gurgaon-AGyzfAH0\" target=\"_blank\">Central Park Flamingo Floors Rent</a><a class=\"css-4huaz2\" href=\"/rent/pioneer-araya-for-rent-in-sector-62-AGpj9AH0\" target=\"_blank\">Pioneer Araya Rent</a><a class=\"css-4huaz2\" href=\"/rent/shree-vardhman-flora-for-rent-in-sector-90-gurgaon-AGw8wAH0\" target=\"_blank\">Shree Vardhman Flora  Rent</a><a class=\"css-4huaz2\" href=\"/rent/signature-global-synera-for-rent-in-sector-81-gurgaon-AGr01AH0\" target=\"_blank\">Signature Global Synera Rent</a><a class=\"css-4huaz2\" href=\"/rent/paras-quartier-for-rent-in-gwal-pahari-gurgaon-AGaiAH0\" target=\"_blank\">Paras Quartier Rent</a><a class=\"css-4huaz2\" href=\"/rent/ss-the-coralwood-for-rent-in-sector-84-gurgaon-AG1vfAH0\" target=\"_blank\">SS The Coralwood Rent</a><a class=\"css-4huaz2\" href=\"/rent/bestech-park-view-sanskruti-for-rent-in-sector-92-gurgaon-AG3h5AH0\" target=\"_blank\">Bestech Park View Sanskruti Rent</a><a class=\"css-4huaz2\" href=\"/rent/anant-raj-maceo-for-rent-in-sector-91-gurgaon-AG310AH0\" target=\"_blank\">Anant Raj Maceo Rent</a><a class=\"css-4huaz2\" href=\"/rent/m3m-natura-for-rent-in-sector-68-gurgaon-AG2vsnAH0\" target=\"_blank\">M3M Natura Rent</a><a class=\"css-4huaz2\" href=\"/rent/tulip-lemon-for-rent-in-sector-69-golf-course-extension-road-AGrchAH0\" target=\"_blank\">Tulip Lemon Rent</a><a class=\"css-4huaz2\" href=\"/rent/dlf-siris-estate-for-rent-in-dlf-phase-3-gurgaon-AG5ee6AH0\" target=\"_blank\">DLF Siris Estate Rent</a><a class=\"css-4huaz2\" href=\"/rent/signature-global-proxima-for-rent-in-sector-89-AG4xtpAH0\" target=\"_blank\">Signature Global Proxima Rent</a><a class=\"css-4huaz2\" href=\"/rent/mapsko-casa-bella-for-rent-in-sector-82-gurgaon-AG159AH0\" target=\"_blank\">Mapsko Casa Bella Rent</a><a class=\"css-4huaz2\" href=\"/rent/spaze-privy-at4-for-rent-in-sector-84-gurgaon-AG1lpAH0\" target=\"_blank\">Spaze Privy AT4 Rent</a><a class=\"css-4huaz2\" href=\"/rent/pioneer-presidia-for-rent-in-sector-62-AGzkAH0\" target=\"_blank\">Pioneer Presidia Rent</a><a class=\"css-4huaz2\" href=\"/rent/rof-ananda-for-rent-in-sector-95-gurgaon-AGw10AH0\" target=\"_blank\">ROF Ananda Rent</a><a class=\"css-4huaz2\" href=\"/rent/mahindra-luminare-for-rent-in-sector-59-golf-course-extension-road-AGpujAH0\" target=\"_blank\">Mahindra Luminare Rent</a><a class=\"css-4huaz2\" href=\"/rent/ireo-skyon-for-rent-in-sector-60-AG19oAH0\" target=\"_blank\">Ireo Skyon Rent</a><a class=\"css-4huaz2\" href=\"/rent/conscient-heritage-max-for-rent-in-sector-102-gurgaon-AG69AH0\" target=\"_blank\">Conscient Heritage Max Rent</a><a class=\"css-4huaz2\" href=\"/rent/vatika-the-seven-lamps-for-rent-in-sector-82-gurgaon-AGpwxAH0\" target=\"_blank\">Vatika The Seven Lamps Rent</a><a class=\"css-4huaz2\" href=\"/rent/m3m-merlin-iconic-tower-for-rent-in-sector-67-golf-course-extension-road-AGsimAH0\" target=\"_blank\">M3M Merlin Iconic Tower Rent</a><a class=\"css-4huaz2\" href=\"/rent/ss-almeria-for-rent-in-sector-84-gurgaon-AG10kAH0\" target=\"_blank\">SS Almeria Rent</a><a class=\"css-4huaz2\" href=\"/rent/godrej-aria-for-rent-in-sector-79-gurgaon-AGr0iAH0\" target=\"_blank\">Godrej Aria Rent</a><a class=\"css-4huaz2\" href=\"/rent/dlf-the-skycourt-for-rent-in-sector-86-gurgaon-AG2syAH0\" target=\"_blank\">DLF The Skycourt Rent</a><a class=\"css-4huaz2\" href=\"/rent/ashiana-anmol-for-rent-in-sector-33-sohna-gurgaon-AGihhAH0\" target=\"_blank\">Ashiana Anmol Rent</a><a class=\"css-4huaz2\" href=\"/rent/gls-south-avenue-for-rent-in-sector-92-gurgaon-AG5e5wAH0\" target=\"_blank\">GLS South Avenue Rent</a><a class=\"css-4huaz2\" href=\"/rent/vatika-signature-villas-for-rent-in-sector-82-gurgaon-AGqi2AH0\" target=\"_blank\">Vatika Signature Villas Rent</a><a class=\"css-4huaz2\" href=\"/rent/signature-global-roselia-2-for-rent-in-sector-95a-gurgaon-AG2rrmAH0\" target=\"_blank\">Signature Global Roselia 2 Rent</a><a class=\"css-4huaz2\" href=\"/rent/bptp-amstoria-country-floor-for-rent-in-sector-102-gurgaon-AGx8jAH0\" target=\"_blank\">BPTP Amstoria Country Floor Rent</a><a class=\"css-4huaz2\" href=\"/rent/eldeco-acclaim-for-rent-in-sector-2-sohna-gurgaon-AG14lqAH0\" target=\"_blank\">Eldeco Acclaim Rent</a><a class=\"css-4huaz2\" href=\"/rent/tata-housing-primanti-for-rent-in-sector-72-golf-course-extension-road-AG3x40AH0\" target=\"_blank\">TATA Housing Primanti Rent</a><a class=\"css-4huaz2\" href=\"/rent/uppal-gurgaon-99-for-rent-in-sector-99-gurgaon-AG1n8oAH0\" target=\"_blank\">Uppal Gurgaon 99 Rent</a><a class=\"css-4huaz2\" href=\"/rent/asf-isle-de-royale-for-rent-in-gwal-pahari-gurgaon-AGy00AH0\" target=\"_blank\">ASF Isle de Royale Rent</a><a class=\"css-4huaz2\" href=\"/rent/vatika-boulevard-heights-and-residences-for-rent-in-sector-83-gurgaon-AGtulAH0\" target=\"_blank\">Vatika Boulevard Heights And Residences Rent</a><a class=\"css-4huaz2\" href=\"/rent/emaar-palm-terraces-select-for-rent-in-sector-66-gurgaon-AGprqAH0\" target=\"_blank\">Emaar Palm Terraces Select Rent</a><a class=\"css-4huaz2\" href=\"/rent/experion-the-westerlies-plots-for-rent-in-sector-108-gurgaon-AG1nhbAH0\" target=\"_blank\">Experion The Westerlies Plots Rent</a><a class=\"css-4huaz2\" href=\"/rent/m3m-latitude-for-rent-in-sector-65-golf-course-extension-road-AGtukAH0\" target=\"_blank\">M3M Latitude Rent</a><a class=\"css-4huaz2\" href=\"/rent/tata-housing-gurgaon-gateway-for-rent-in-sector-113-gurgaon-AGq0iAH0\" target=\"_blank\">Tata Housing Gurgaon Gateway Rent</a><a class=\"css-4huaz2\" href=\"/rent/tulip-ace-for-rent-in-sector-89-AG1lbAH0\" target=\"_blank\">Tulip Ace Rent</a><a class=\"css-4huaz2\" href=\"/rent/tulip-leaf-for-rent-in-sector-69-golf-course-extension-road-AG4upnAH0\" target=\"_blank\">Tulip Leaf Rent</a><a class=\"css-4huaz2\" href=\"/rent/maa-bhagwati-residency-for-rent-in-sector-3a-gurgaon-AG2tjeAH0\" target=\"_blank\">MAA Bhagwati Residency Rent</a><a class=\"css-4huaz2\" href=\"/rent/vatika-gurgaon-21-for-rent-in-sector-83-gurgaon-AGrlyAH0\" target=\"_blank\">Vatika Gurgaon 21 Rent</a><a class=\"css-4huaz2\" href=\"/rent/signature-orchard-avenue-2-for-rent-in-sector-93-gurgaon-AG4u9uAH0\" target=\"_blank\">Signature Orchard Avenue 2 Rent</a><a class=\"css-4huaz2\" href=\"/rent/m3m-merlin-for-rent-in-sector-67-golf-course-extension-road-AG80oAH0\" target=\"_blank\">M3M Merlin Rent</a><a class=\"css-4huaz2\" href=\"/rent/paras-irene-for-rent-in-sector-70a-golf-course-extension-road-AG8vAH0\" target=\"_blank\">Paras Irene Rent</a><a class=\"css-4huaz2\" href=\"/rent/ss-the-leaf-for-rent-in-sector-85-AGqoiAH0\" target=\"_blank\">SS The Leaf Rent</a><a class=\"css-4huaz2\" href=\"/rent/emaar-emerald-floors-select-for-rent-in-sector-65-golf-course-extension-road-AG1aixAH0\" target=\"_blank\">Emaar Emerald Floors Select Rent</a><a class=\"css-4huaz2\" href=\"/rent/ashley-whitehousz-nirvana-floors-for-rent-in-sector-50-gurgaon-AG4u89AH0\" target=\"_blank\">Whitehousz Nirvana Floors Rent</a><a class=\"css-4huaz2\" href=\"/rent/vatika-independent-floors-for-rent-in-sector-82-gurgaon-AG18bsAH0\" target=\"_blank\">Vatika Independent Floors Rent</a><a class=\"css-4huaz2\" href=\"/rent/solutrean-caladium-for-rent-in-sector-109-gurgaon-AG3tjAH0\" target=\"_blank\">Solutrean Caladium Rent</a><a class=\"css-4huaz2\" href=\"/rent/surendra-homes-dayanand-colony-for-rent-in-sector-6-gurgaon-AG52m6AH0\" target=\"_blank\">Surendra Homes Dayanand Colony Rent</a><a class=\"css-4huaz2\" href=\"/rent/arun-gaur-co\t-ggr-ansal-esensia-floors-for-rent-in-sector-67-gurgaon-AG5dyuAH0\" target=\"_blank\">GGR Ansal Esensia Floors Rent</a><a class=\"css-4huaz2\" href=\"/rent/central-park-resorts-for-rent-in-sector-48-gurgaon-AG52bgAH0\" target=\"_blank\">Central Park Resorts Rent</a><a class=\"css-4huaz2\" href=\"/rent/arun-gaur-co\t-ggr-floor-4-for-rent-in-sushant-lok-i-gurgaon-AG4v62AH0\" target=\"_blank\">GGR Floor 4 Rent</a><a class=\"css-4huaz2\" href=\"/rent/new-door-sushan-a2-a24-for-rent-in-sushant-lok-i-gurgaon-AG4wjaAH0\" target=\"_blank\">New Door Sushan A2 A24 Rent</a><a class=\"css-4huaz2\" href=\"/rent/a3s-homes-ashok-vihar-for-rent-in-sector-3-gurgaon-AG5etzAH0\" target=\"_blank\">A3S Homes Ashok Vihar Rent</a><a class=\"css-4huaz2\" href=\"/rent/ssg-yash-residency-3-for-rent-in-sector-6-gurgaon-AG2v1iAH0\" target=\"_blank\">SSG Yash Residency 3 Rent</a><a class=\"css-4huaz2\" href=\"/rent/krishna-homes-for-rent-in-sector-15-gurgaon-AG52cxAH0\" target=\"_blank\">Krishna Homes Rent</a><a class=\"css-4huaz2\" href=\"/rent/anil-suri-cghs-swarna-jayanti-apartments-for-rent-in-sector-54-gurgaon-AG17a7AH0\" target=\"_blank\">CGHS Swarna Jayanti Apartments Rent</a><a class=\"css-4huaz2\" href=\"/rent/cghs-peach-jasmine-for-rent-in-sector-31-gurgaon-AG189mAH0\" target=\"_blank\">CGHS Peach Jasmine Rent</a><a class=\"css-4huaz2\" href=\"/rent/cghs-arzoo-apartment-for-rent-in-sector-51-gurgaon-AG178uAH0\" target=\"_blank\">CGHS Arzoo Apartment Rent</a><a class=\"css-4huaz2\" href=\"/rent/sobha-international-city---duplex-villa-for-rent-in-sector-109-gurgaon-AGnw0AH0\" target=\"_blank\">Sobha International City - Duplex Villa Rent</a><a class=\"css-4huaz2\" href=\"/rent/ansal-heights-for-rent-in-sector-92-gurgaon-AG2qwAH0\" target=\"_blank\">Ansal Heights Rent</a><a class=\"css-4huaz2\" href=\"/rent/emaar-emerald-classic-for-rent-in-sector-65-golf-course-extension-road-AG4v9nAH0\" target=\"_blank\">Emaar Emerald Classic Rent</a><a class=\"css-4huaz2\" href=\"/rent/dlf-exclusive-floors-for-rent-in-sector-54-gurgaon-AG14azAH0\" target=\"_blank\">DLF Exclusive Floors Rent</a></div></div><footer class=\"css-mztzjf\" data-q=\"footer\"><div class=\"css-tkm64s\"><div class=\"css-12z0wuy\">Part of</div><div class=\"css-f2xdfe\"><img alt=\"REA Group\" class=\"img css-cwrfmo\" decoding=\"async\" src=\"//c.housingcdn.com/growth/s/common/assets/REAGroup.4743f11f.png\"/></div></div><div class=\"css-1s85d9h\"><span class=\"css-2gr9fd\">Our Brands</span><a class=\"css-1ou0f0u\" href=\"https://www.proptiger.com/\" target=\"_blank\" title=\"Proptiger\"></a><a class=\"css-1kl3woj\" href=\"https://www.makaan.com/\" target=\"_blank\" title=\"makaan\"></a><a class=\"css-hwj3a4\" href=\"https://www.indianrealestateforum.com/\" target=\"_blank\" title=\"India's most trusted Real Estate Community\"></a></div><div class=\"list-cont css-1n55fa5\"><div class=\"item-cont\"><div class=\"item-short\"><a class=\"item css-t99auo\" href=\"/in/buy/real-estate-mumbai\" target=\"_blank\">Real estate in Mumbai</a></div><div class=\"item-xshort\"><a class=\"item css-t99auo\" href=\"/in/buy/mumbai/mumbai\" target=\"_blank\">Flats in Mumbai</a></div><div class=\"item-medium\"><a class=\"item css-t99auo\" href=\"/rent/flats-for-rent-in-mumbai-maharashtra-Pskwz0ocdh7q42r5\" target=\"_blank\">Flats for Rent in Mumbai</a></div><div class=\"item-medium\"><a class=\"item css-t99auo\" href=\"/in/buy/projects/mumbai\" target=\"_blank\">New Projects in Mumbai</a></div><div class=\"item-long\"><a class=\"item css-t99auo\" href=\"/commercial/buy/commercial-property-for-sale-in-mumbai-maharashtra-Pskwz0ocdh7q42r5\" target=\"_blank\">Commercial Property in Mumbai</a></div><div class=\"item-xlong\"><a class=\"item css-t99auo\" href=\"/commercial/rent/commercial-property-for-rent-in-mumbai-maharashtra-Pskwz0ocdh7q42r5\" target=\"_blank\">Commercial Property for rent in Mumbai</a></div><div class=\"item-short\"><a class=\"item css-t99auo\" href=\"/in/buy/real-estate-bangalore\" target=\"_blank\">Real estate in Bengaluru</a></div><div class=\"item-xshort\"><a class=\"item css-t99auo\" href=\"/in/buy/bangalore/bangalore\" target=\"_blank\">Flats in Bengaluru</a></div><div class=\"item-medium\"><a class=\"item css-t99auo\" href=\"/rent/flats-for-rent-in-bangalore-karnataka-P38f9yfbk7p3m2h1f\" target=\"_blank\">Flats for Rent in Bengaluru</a></div><div class=\"item-medium\"><a class=\"item css-t99auo\" href=\"/in/buy/projects/bangalore\" target=\"_blank\">New Projects in Bengaluru</a></div><div class=\"item-long\"><a class=\"item css-t99auo\" href=\"/commercial/buy/commercial-property-for-sale-in-bangalore-karnataka-P38f9yfbk7p3m2h1f\" target=\"_blank\">Commercial Property in Bengaluru</a></div><div class=\"item-xlong\"><a class=\"item css-t99auo\" href=\"/commercial/rent/commercial-property-for-rent-in-bangalore-karnataka-P38f9yfbk7p3m2h1f\" target=\"_blank\">Commercial Property for rent in Bengaluru</a></div><div class=\"item-short\"><a class=\"item css-t99auo\" href=\"/in/buy/real-estate-hyderabad\" target=\"_blank\">Real estate in Hyderabad</a></div><div class=\"item-xshort\"><a class=\"item css-t99auo\" href=\"/in/buy/hyderabad/hyderabad\" target=\"_blank\">Flats in Hyderabad</a></div><div class=\"item-medium\"><a class=\"item css-t99auo\" href=\"/rent/flats-for-rent-in-hyderabad-telangana-P679xe73u28050522\" target=\"_blank\">Flats for Rent in Hyderabad</a></div><div class=\"item-medium\"><a class=\"item css-t99auo\" href=\"/in/buy/projects/hyderabad\" target=\"_blank\">New Projects in Hyderabad</a></div><div class=\"item-long\"><a class=\"item css-t99auo\" href=\"/commercial/buy/commercial-property-for-sale-in-hyderabad-telangana-P679xe73u28050522\" target=\"_blank\">Commercial Property in Hyderabad</a></div><div class=\"item-xlong\"><a class=\"item css-t99auo\" href=\"/commercial/rent/commercial-property-for-rent-in-hyderabad-telangana-P679xe73u28050522\" target=\"_blank\">Commercial Property for rent in Hyderabad</a></div><div class=\"item-short\"><a class=\"item css-t99auo\" href=\"/in/buy/real-estate-pune\" target=\"_blank\">Real estate in Pune</a></div><div class=\"item-xshort\"><a class=\"item css-t99auo\" href=\"/in/buy/pune/pune\" target=\"_blank\">Flats in Pune</a></div><div class=\"item-medium\"><a class=\"item css-t99auo\" href=\"/rent/flats-for-rent-in-pune-maharashtra-P2r4v3l939lxd541t\" target=\"_blank\">Flats for Rent in Pune</a></div><div class=\"item-medium\"><a class=\"item css-t99auo\" href=\"/in/buy/projects/pune\" target=\"_blank\">New Projects in Pune</a></div><div class=\"item-long\"><a class=\"item css-t99auo\" href=\"/commercial/buy/commercial-property-for-sale-in-pune-maharashtra-P2r4v3l939lxd541t\" target=\"_blank\">Commercial Property in Pune</a></div><div class=\"item-xlong\"><a class=\"item css-t99auo\" href=\"/commercial/rent/commercial-property-for-rent-in-pune-maharashtra-P2r4v3l939lxd541t\" target=\"_blank\">Commercial Property for rent in Pune</a></div><div class=\"item-short\"><a class=\"item css-t99auo\" href=\"/in/buy/real-estate-chennai\" target=\"_blank\">Real estate in Chennai</a></div><div class=\"item-xshort\"><a class=\"item css-t99auo\" href=\"/in/buy/chennai/chennai\" target=\"_blank\">Flats in Chennai</a></div><div class=\"item-medium\"><a class=\"item css-t99auo\" href=\"/rent/flats-for-rent-in-chennai-tamil-nadu-P4bimjmco2m9afw0m\" target=\"_blank\">Flats for Rent in Chennai</a></div><div class=\"item-medium\"><a class=\"item css-t99auo\" href=\"/in/buy/projects/chennai\" target=\"_blank\">New Projects in Chennai</a></div><div class=\"item-long\"><a class=\"item css-t99auo\" href=\"/commercial/buy/commercial-property-for-sale-in-chennai-tamil-nadu-P4bimjmco2m9afw0m\" target=\"_blank\">Commercial Property in Chennai</a></div><div class=\"item-xlong\"><a class=\"item css-t99auo\" href=\"/commercial/rent/commercial-property-for-rent-in-chennai-tamil-nadu-P4bimjmco2m9afw0m\" target=\"_blank\">Commercial Property for rent in Chennai</a></div><div class=\"item-short\"><a class=\"item css-t99auo\" href=\"/in/buy/real-estate-new_delhi\" target=\"_blank\">Real estate in Delhi</a></div><div class=\"item-xshort\"><a class=\"item css-t99auo\" href=\"/in/buy/new_delhi/new_delhi\" target=\"_blank\">Flats in Delhi</a></div><div class=\"item-medium\"><a class=\"item css-t99auo\" href=\"/rent/flats-for-rent-in-new-delhi-india-P6xfqdsey6cc3d95h\" target=\"_blank\">Flats for Rent in Delhi</a></div><div class=\"item-medium\"><a class=\"item css-t99auo\" href=\"/in/buy/projects/new_delhi\" target=\"_blank\">New Projects in Delhi</a></div><div class=\"item-long\"><a class=\"item css-t99auo\" href=\"/commercial/buy/commercial-property-for-sale-in-new-delhi-india-P6xfqdsey6cc3d95h\" target=\"_blank\">Commercial Property in Delhi</a></div><div class=\"item-xlong\"><a class=\"item css-t99auo\" href=\"/commercial/rent/commercial-property-for-rent-in-new-delhi-india-P6xfqdsey6cc3d95h\" target=\"_blank\">Commercial Property for rent in Delhi</a></div><div class=\"item-short\"><a class=\"item css-t99auo\" href=\"/in/buy/real-estate-gurgaon\" target=\"_blank\">Real estate in Gurgaon</a></div><div class=\"item-xshort\"><a class=\"item css-t99auo\" href=\"/in/buy/gurgaon/gurgaon\" target=\"_blank\">Flats in Gurgaon</a></div><div class=\"item-medium\"><a class=\"item css-t99auo\" href=\"/rent/flats-for-rent-in-gurgaon-haryana-P1od1w26jrfqap1jl\" target=\"_blank\">Flats for Rent in Gurgaon</a></div><div class=\"item-medium\"><a class=\"item css-t99auo\" href=\"/in/buy/projects/gurgaon\" target=\"_blank\">New Projects in Gurgaon</a></div><div class=\"item-long\"><a class=\"item css-t99auo\" href=\"/commercial/buy/commercial-property-for-sale-in-gurgaon-haryana-P1od1w26jrfqap1jl\" target=\"_blank\">Commercial Property in Gurgaon</a></div><div class=\"item-xlong\"><a class=\"item css-t99auo\" href=\"/commercial/rent/commercial-property-for-rent-in-gurgaon-haryana-P1od1w26jrfqap1jl\" target=\"_blank\">Commercial Property for rent in Gurgaon</a></div><div class=\"item-short\"><a class=\"item css-t99auo\" href=\"/in/buy/real-estate-noida\" target=\"_blank\">Real estate in Noida</a></div><div class=\"item-xshort\"><a class=\"item css-t99auo\" href=\"/in/buy/noida/noida\" target=\"_blank\">Flats in Noida</a></div><div class=\"item-medium\"><a class=\"item css-t99auo\" href=\"/rent/flats-for-rent-in-noida-uttar-pradesh-P2fqf0dypkiyhifgy\" target=\"_blank\">Flats for Rent in Noida</a></div><div class=\"item-medium\"><a class=\"item css-t99auo\" href=\"/in/buy/projects/noida\" target=\"_blank\">New Projects in Noida</a></div><div class=\"item-long\"><a class=\"item css-t99auo\" href=\"/commercial/buy/commercial-property-for-sale-in-noida-uttar-pradesh-P2fqf0dypkiyhifgy\" target=\"_blank\">Commercial Property in Noida</a></div><div class=\"item-xlong\"><a class=\"item css-t99auo\" href=\"/commercial/rent/commercial-property-for-rent-in-noida-uttar-pradesh-P2fqf0dypkiyhifgy\" target=\"_blank\">Commercial Property for rent in Noida</a></div><div class=\"item-short\"><a class=\"item css-t99auo\" href=\"/in/buy/real-estate-kolkata\" target=\"_blank\">Real estate in Kolkata</a></div><div class=\"item-xshort\"><a class=\"item css-t99auo\" href=\"/in/buy/kolkata/kolkata\" target=\"_blank\">Flats in Kolkata</a></div><div class=\"item-medium\"><a class=\"item css-t99auo\" href=\"/rent/flats-for-rent-in-calcutta-west-bengal-P40qcmycif4m431jo\" target=\"_blank\">Flats for Rent in Kolkata</a></div><div class=\"item-medium\"><a class=\"item css-t99auo\" href=\"/in/buy/projects/kolkata\" target=\"_blank\">New Projects in Kolkata</a></div><div class=\"item-long\"><a class=\"item css-t99auo\" href=\"/commercial/buy/commercial-property-for-sale-in-calcutta-west-bengal-P40qcmycif4m431jo\" target=\"_blank\">Commercial Property in Kolkata</a></div><div class=\"item-xlong\"><a class=\"item css-t99auo\" href=\"/commercial/rent/commercial-property-for-rent-in-calcutta-west-bengal-P40qcmycif4m431jo\" target=\"_blank\">Commercial Property for rent in Kolkata</a></div><div class=\"item-short\"><a class=\"item css-t99auo\" href=\"/in/buy/real-estate-ahmedabad\" target=\"_blank\">Real estate in Ahmedabad</a></div><div class=\"item-xshort\"><a class=\"item css-t99auo\" href=\"/in/buy/ahmedabad/ahmedabad\" target=\"_blank\">Flats in Ahmedabad</a></div><div class=\"item-medium\"><a class=\"item css-t99auo\" href=\"/rent/flats-for-rent-in-ahmedabad-gujarat-P4hkd3fsj8fd9kanb\" target=\"_blank\">Flats for Rent in Ahmedabad</a></div><div class=\"item-medium\"><a class=\"item css-t99auo\" href=\"/in/buy/projects/ahmedabad\" target=\"_blank\">New Projects in Ahmedabad</a></div><div class=\"item-long\"><a class=\"item css-t99auo\" href=\"/commercial/buy/commercial-property-for-sale-in-ahmedabad-gujarat-P4hkd3fsj8fd9kanb\" target=\"_blank\">Commercial Property in Ahmedabad</a></div><div class=\"item-xlong\"><a class=\"item css-t99auo\" href=\"/commercial/rent/commercial-property-for-rent-in-ahmedabad-gujarat-P4hkd3fsj8fd9kanb\" target=\"_blank\">Commercial Property for rent in Ahmedabad</a></div><div class=\"item-short\"><a class=\"item css-t99auo\" href=\"/in/buy/real-estate-thane\" target=\"_blank\">Real estate in Thane</a></div><div class=\"item-xshort\"><a class=\"item css-t99auo\" href=\"/in/buy/mumbai/thane\" target=\"_blank\">Flats in Thane</a></div><div class=\"item-medium\"><a class=\"item css-t99auo\" href=\"/rent/flats-for-rent-in-thane-maharashtra-Plqq7bm2s53fechd\" target=\"_blank\">Flats for Rent in Thane</a></div><div class=\"item-medium\"><a class=\"item css-t99auo\" href=\"/in/buy/projects/thane\" target=\"_blank\">New Projects in Thane</a></div><div class=\"item-long\"><a class=\"item css-t99auo\" href=\"/commercial/buy/commercial-property-for-sale-in-thane-maharashtra-Plqq7bm2s53fechd\" target=\"_blank\">Commercial Property in Thane</a></div><div class=\"item-xlong\"><a class=\"item css-t99auo\" href=\"/commercial/rent/commercial-property-for-rent-in-thane-maharashtra-Plqq7bm2s53fechd\" target=\"_blank\">Commercial Property for rent in Thane</a></div><div class=\"item-short\"><a class=\"item css-t99auo\" href=\"/in/buy/real-estate-navi_mumbai\" target=\"_blank\">Real estate in Navi Mumbai</a></div><div class=\"item-xshort\"><a class=\"item css-t99auo\" href=\"/in/buy/mumbai/navi_mumbai\" target=\"_blank\">Flats in Navi Mumbai</a></div><div class=\"item-medium\"><a class=\"item css-t99auo\" href=\"/rent/flats-for-rent-in-navi-mumbai-maharashtra-P1eij1jtclmvaoj9w\" target=\"_blank\">Flats for Rent in Navi Mumbai</a></div><div class=\"item-medium\"><a class=\"item css-t99auo\" href=\"/in/buy/projects/navi_mumbai\" target=\"_blank\">New Projects in Navi Mumbai</a></div><div class=\"item-long\"><a class=\"item css-t99auo\" href=\"/commercial/buy/commercial-property-for-sale-in-navi-mumbai-maharashtra-P1eij1jtclmvaoj9w\" target=\"_blank\">Commercial Property in Navi Mumbai</a></div><div class=\"item-xlong\"><a class=\"item css-t99auo\" href=\"/commercial/rent/commercial-property-for-rent-in-navi-mumbai-maharashtra-P1eij1jtclmvaoj9w\" target=\"_blank\">Commercial Property for rent in Navi Mumbai</a></div><div class=\"item-short\"><a class=\"item css-t99auo\" href=\"/in/buy/real-estate-faridabad\" target=\"_blank\">Real estate in Faridabad</a></div><div class=\"item-xshort\"><a class=\"item css-t99auo\" href=\"/in/buy/faridabad/faridabad\" target=\"_blank\">Flats in Faridabad</a></div><div class=\"item-medium\"><a class=\"item css-t99auo\" href=\"/rent/flats-for-rent-in-faridabad-haryana-P3nlekdze1dlp2923\" target=\"_blank\">Flats for Rent in Faridabad</a></div><div class=\"item-medium\"><a class=\"item css-t99auo\" href=\"/in/buy/projects/faridabad\" target=\"_blank\">New Projects in Faridabad</a></div><div class=\"item-long\"><a class=\"item css-t99auo\" href=\"/commercial/buy/commercial-property-for-sale-in-faridabad-haryana-P3nlekdze1dlp2923\" target=\"_blank\">Commercial Property in Faridabad</a></div><div class=\"item-xlong\"><a class=\"item css-t99auo\" href=\"/commercial/rent/commercial-property-for-rent-in-faridabad-haryana-P3nlekdze1dlp2923\" target=\"_blank\">Commercial Property for rent in Faridabad</a></div><div class=\"item-short\"><a class=\"item css-t99auo\" href=\"/in/buy/real-estate-ghaziabad\" target=\"_blank\">Real estate in Ghaziabad</a></div><div class=\"item-xshort\"><a class=\"item css-t99auo\" href=\"/in/buy/ghaziabad/ghaziabad\" target=\"_blank\">Flats in Ghaziabad</a></div><div class=\"item-medium\"><a class=\"item css-t99auo\" href=\"/rent/flats-for-rent-in-ghaziabad-uttar-pradesh-P6wujpumuv5tkcmbj\" target=\"_blank\">Flats for Rent in Ghaziabad</a></div><div class=\"item-medium\"><a class=\"item css-t99auo\" href=\"/in/buy/projects/ghaziabad\" target=\"_blank\">New Projects in Ghaziabad</a></div><div class=\"item-long\"><a class=\"item css-t99auo\" href=\"/commercial/buy/commercial-property-for-sale-in-ghaziabad-uttar-pradesh-P6wujpumuv5tkcmbj\" target=\"_blank\">Commercial Property in Ghaziabad</a></div><div class=\"item-xlong\"><a class=\"item css-t99auo\" href=\"/commercial/rent/commercial-property-for-rent-in-ghaziabad-uttar-pradesh-P6wujpumuv5tkcmbj\" target=\"_blank\">Commercial Property for rent in Ghaziabad</a></div></div></div><div class=\"css-91v8jw\"><div class=\"css-engvuj\"><div class=\"css-13l26vb\"><img alt=\"Housing.com\" class=\"css-1buw33f\" decoding=\"async\" src=\"//c.housingcdn.com/growth/s/common/assets/housing.df1a39a7.png\"/></div><div class=\"css-5j9vdr\"><img alt=\"Great Places to work - Housing.com\" class=\"css-1j4c20c\" decoding=\"async\" src=\"//c.housingcdn.com/growth/s/common/assets/gptweconomic.5d37564c.jpg\"/><img alt=\"Great Places to work in Asia - Housing.com\" class=\"css-6agzg2\" decoding=\"async\" src=\"//c.housingcdn.com/growth/s/common/assets/gptwLogo.10074374.png\"/></div><div><div class=\"css-8hd1rh\">FOLLOW</div><div class=\"css-1bhi1o7\"><a class=\"css-4g6ai3\" href=\"https://www.facebook.com/housing.co.in\" rel=\"nofollow\" target=\"_blank\"><img class=\"img css-xckiz9\" decoding=\"async\" src=\"//c.housingcdn.com/growth/s/common/assets/facebook.1bbaa019.png\"/></a><a class=\"css-4g6ai3\" href=\"https://instagram.com/housingindia/\" rel=\"nofollow\" target=\"_blank\"><img class=\"img css-xckiz9\" decoding=\"async\" src=\"//c.housingcdn.com/growth/s/common/assets/instagram.61d0c197.png\"/></a><a class=\"css-4g6ai3\" href=\"https://twitter.com/housing\" rel=\"nofollow\" target=\"_blank\"><img class=\"img css-xckiz9\" decoding=\"async\" src=\"//c.housingcdn.com/growth/s/common/assets/twitter.6c766361.png\"/></a><a class=\"css-4g6ai3\" href=\"https://www.linkedin.com/company/2741657\" rel=\"nofollow\" target=\"_blank\"><img class=\"img css-xckiz9\" decoding=\"async\" src=\"//c.housingcdn.com/growth/s/common/assets/linkedin.2a8fc382.png\"/></a><a class=\"css-4g6ai3\" href=\"https://www.youtube.com/user/HousingY\" rel=\"nofollow\" target=\"_blank\"><img class=\"img css-xckiz9\" decoding=\"async\" src=\"//c.housingcdn.com/growth/s/common/assets/youtube.cb5af10c.png\"/></a></div></div><div class=\"css-1dvedly\">©<!-- -->2012-22 Locon Solutions Pvt. Ltd</div></div><div class=\"css-6s0hl6\"><div class=\"css-mwxbls\"><div class=\"css-g9daoc\">Company</div><div class=\"css-xclhr7\"><a class=\"css-yafbxc\" href=\"/careers\" rel=\"nofollow\" target=\"_blank\">Careers</a><a class=\"css-yafbxc\" href=\"/about\" rel=\"nofollow\" target=\"_blank\">About Us</a><a class=\"css-yafbxc\" href=\"/partners\" rel=\"nofollow\" target=\"_blank\">For Partners</a><a class=\"css-yafbxc\" href=\"/terms-of-use\" rel=\"nofollow\" target=\"_blank\">Terms</a><a class=\"css-yafbxc\" href=\"/privacy-policy\" rel=\"nofollow\" target=\"_blank\">Privacy Policy</a><a class=\"css-yafbxc\" href=\"/contact-us\" rel=\"nofollow\" target=\"_blank\">Contact Us</a><a class=\"css-yafbxc\" href=\"/unsubscribe\" rel=\"nofollow\" target=\"_blank\">Unsubscribe</a><a class=\"css-yafbxc\" href=\"/merger-hearing\" rel=\"nofollow\" target=\"_blank\">Merger Hearing Advertisement</a></div></div><div class=\"css-mwxbls\"><div class=\"css-g9daoc\">Partner Sites</div><div class=\"css-xclhr7\"><a class=\"css-yafbxc\" href=\"https://www.proptiger.com/\" rel=\"noreferrer\" target=\"_blank\">Proptiger</a><a class=\"css-yafbxc\" href=\"https://www.makaan.com/\" rel=\"noreferrer\" target=\"_blank\">Makaan</a><a class=\"css-yafbxc\" href=\"https://www.indianrealestateforum.com/\" rel=\"noreferrer\" target=\"_blank\">IREF</a><a class=\"css-yafbxc\" href=\"https://www.realestate.com.au/\" rel=\"noreferrer\" target=\"_blank\">realestate.com.au</a><a class=\"css-yafbxc\" href=\"https://realtor.com/\" rel=\"noreferrer\" target=\"_blank\">realtor.com</a><a class=\"css-yafbxc\" href=\"https://www.99.co/\" rel=\"noreferrer\" target=\"_blank\">99.co</a></div></div><div class=\"css-mwxbls\"><div class=\"css-g9daoc\">Explore</div><div class=\"css-xclhr7\"><a class=\"css-yafbxc\" href=\"/news\" rel=\"noreferrer\" target=\"_blank\">News</a><a class=\"css-yafbxc\" href=\"/home-loans\" rel=\"noreferrer\" target=\"_blank\">Home Loans</a><a class=\"css-yafbxc\" href=\"/sitemap\" rel=\"noreferrer\" target=\"_blank\">Sitemap</a><a class=\"css-yafbxc\" href=\"/international\" rel=\"noreferrer\" target=\"_blank\">International</a></div></div></div><div class=\"css-1rr4qq7\"><div class=\"css-u0r3im\">EXPERIENCE HOUSING APP ON MOBILE</div><div class=\"css-144wazg\"><a class=\"css-0\" href=\"https://apps.apple.com/in/app/property-search-by-housing-com/id967257660?referrer=utm_source=inhouse-housing&amp;utm_medium=desktop&amp;utm_campaign=footer\" target=\"_blank\"><img class=\"img css-1ixlxnz\" decoding=\"async\" src=\"//c.housingcdn.com/growth/s/common/assets/app-store.29706cde.png\"/></a><a class=\"css-0\" href=\"https://play.google.com/store/apps/details?id=com.locon.housing&amp;referrer=utm_source=inhouse-housing&amp;utm_medium=desktop&amp;utm_campaign=footer\" target=\"_blank\"><img class=\"img css-lsijmh\" decoding=\"async\" src=\"//c.housingcdn.com/growth/s/common/assets/google-play.b94036af.png\"/></a></div><div class=\"css-5v54ys\"><img class=\"img css-xckiz9\" decoding=\"async\" src=\"//c.housingcdn.com/growth/s/common/assets/qr-code.da92c2f2.png\"/><div class=\"css-oui9pb\">Open camera &amp; scan the QR code to Download the App</div></div></div></div></footer></div></div><div id=\"tooltip-root\"></div><div id=\"modal-root\"></div></div><script async=\"\" src=\"https://www.google-analytics.com/analytics.js\"></script><script id=\"initialState\">window.__DATA_LOADED__ = true;window.__INITIAL_STATE__ = JSON.parse(\"\\\"\\\"\")</script></body></html>"
            ]
          },
          "metadata": {},
          "execution_count": 5
        }
      ]
    },
    {
      "cell_type": "code",
      "source": [
        "special_divs = soup.find('div', attrs={\"class\" : \"css-12duwuh\"})\n",
        "special_divs"
      ],
      "metadata": {
        "id": "TWRTBzJCYFfy",
        "colab": {
          "base_uri": "https://localhost:8080/"
        },
        "outputId": "d81f7dfd-9157-4f37-a437-b1b27a7f790c"
      },
      "execution_count": null,
      "outputs": [
        {
          "output_type": "execute_result",
          "data": {
            "text/plain": [
              "<div class=\"css-12duwuh\"><a class=\"css-sofn5\" href=\"/rent/projects-gurgaon/all-societies\">Top Societies</a><a class=\"css-1ruopo1\" href=\"/rent/projects-gurgaon/all-societies-a\">a</a><a class=\"css-1ruopo1\" href=\"/rent/projects-gurgaon/all-societies-b\">b</a><a class=\"css-1ruopo1\" href=\"/rent/projects-gurgaon/all-societies-c\">c</a><a class=\"css-1ruopo1\" href=\"/rent/projects-gurgaon/all-societies-d\">d</a><a class=\"css-1ruopo1\" href=\"/rent/projects-gurgaon/all-societies-e\">e</a><a class=\"css-1ruopo1\" href=\"/rent/projects-gurgaon/all-societies-f\">f</a><a class=\"css-1ruopo1\" href=\"/rent/projects-gurgaon/all-societies-g\">g</a><a class=\"css-1ruopo1\" href=\"/rent/projects-gurgaon/all-societies-h\">h</a><a class=\"css-1ruopo1\" href=\"/rent/projects-gurgaon/all-societies-i\">i</a><a class=\"css-1ruopo1\" href=\"/rent/projects-gurgaon/all-societies-j\">j</a><a class=\"css-1ruopo1\" href=\"/rent/projects-gurgaon/all-societies-k\">k</a><a class=\"css-1ruopo1\" href=\"/rent/projects-gurgaon/all-societies-l\">l</a><a class=\"css-1ruopo1\" href=\"/rent/projects-gurgaon/all-societies-m\">m</a><a class=\"css-1ruopo1\" href=\"/rent/projects-gurgaon/all-societies-n\">n</a><a class=\"css-1ruopo1\" href=\"/rent/projects-gurgaon/all-societies-o\">o</a><a class=\"css-1ruopo1\" href=\"/rent/projects-gurgaon/all-societies-p\">p</a><a class=\"css-1ruopo1\" href=\"/rent/projects-gurgaon/all-societies-q\">q</a><a class=\"css-1ruopo1\" href=\"/rent/projects-gurgaon/all-societies-r\">r</a><a class=\"css-1ruopo1\" href=\"/rent/projects-gurgaon/all-societies-s\">s</a><a class=\"css-1ruopo1\" href=\"/rent/projects-gurgaon/all-societies-t\">t</a><a class=\"css-1ruopo1\" href=\"/rent/projects-gurgaon/all-societies-u\">u</a><a class=\"css-1ruopo1\" href=\"/rent/projects-gurgaon/all-societies-v\">v</a><a class=\"css-1ruopo1\" href=\"/rent/projects-gurgaon/all-societies-w\">w</a><a class=\"css-1ruopo1\" href=\"/rent/projects-gurgaon/all-societies-x\">x</a><a class=\"css-1ruopo1\" href=\"/rent/projects-gurgaon/all-societies-y\">y</a><a class=\"css-1ruopo1\" href=\"/rent/projects-gurgaon/all-societies-z\">z</a></div>"
            ]
          },
          "metadata": {},
          "execution_count": 6
        }
      ]
    },
    {
      "cell_type": "code",
      "source": [
        "urls = []\n",
        "urls1 =[]"
      ],
      "metadata": {
        "id": "s0sv1Qb9LCKr"
      },
      "execution_count": null,
      "outputs": []
    },
    {
      "cell_type": "code",
      "source": [
        "type(soup)\n"
      ],
      "metadata": {
        "colab": {
          "base_uri": "https://localhost:8080/"
        },
        "id": "q7xO5F9AXk9d",
        "outputId": "14b938c7-83eb-4613-d660-e35c44e9c5f6"
      },
      "execution_count": null,
      "outputs": [
        {
          "output_type": "execute_result",
          "data": {
            "text/plain": [
              "bs4.BeautifulSoup"
            ]
          },
          "metadata": {},
          "execution_count": 8
        }
      ]
    },
    {
      "cell_type": "code",
      "source": [
        "text = special_divs.findAll('a', attrs={'href': re.compile(\"^/rent/projects-gurgaon/all-societies\")})\n",
        "for x in text:\n",
        "  url = x.get('href')\n",
        "  urls.append(url)"
      ],
      "metadata": {
        "id": "QyH0PVWFbOjJ"
      },
      "execution_count": null,
      "outputs": []
    },
    {
      "cell_type": "code",
      "source": [
        "text1 = special_divs.findAll('a')\n",
        "for y in text1:\n",
        "  url = y.text\n",
        "  urls1.append(url)"
      ],
      "metadata": {
        "id": "O49K5jfyJq1G"
      },
      "execution_count": null,
      "outputs": []
    },
    {
      "cell_type": "code",
      "source": [
        "urls\n",
        "urls1"
      ],
      "metadata": {
        "colab": {
          "base_uri": "https://localhost:8080/"
        },
        "id": "82WISXrMLcmk",
        "outputId": "143f1e98-66c3-44c7-d50d-d6dcb311da8c"
      },
      "execution_count": null,
      "outputs": [
        {
          "output_type": "execute_result",
          "data": {
            "text/plain": [
              "['Top Societies',\n",
              " 'a',\n",
              " 'b',\n",
              " 'c',\n",
              " 'd',\n",
              " 'e',\n",
              " 'f',\n",
              " 'g',\n",
              " 'h',\n",
              " 'i',\n",
              " 'j',\n",
              " 'k',\n",
              " 'l',\n",
              " 'm',\n",
              " 'n',\n",
              " 'o',\n",
              " 'p',\n",
              " 'q',\n",
              " 'r',\n",
              " 's',\n",
              " 't',\n",
              " 'u',\n",
              " 'v',\n",
              " 'w',\n",
              " 'x',\n",
              " 'y',\n",
              " 'z']"
            ]
          },
          "metadata": {},
          "execution_count": 11
        }
      ]
    },
    {
      "cell_type": "code",
      "source": [
        "df = pd.DataFrame()\n",
        "print(df)"
      ],
      "metadata": {
        "colab": {
          "base_uri": "https://localhost:8080/"
        },
        "id": "2IsGBuCFdSiL",
        "outputId": "5efd6f2d-932c-4282-be4a-d82c8ba72f6e"
      },
      "execution_count": null,
      "outputs": [
        {
          "output_type": "stream",
          "name": "stdout",
          "text": [
            "Empty DataFrame\n",
            "Columns: []\n",
            "Index: []\n"
          ]
        }
      ]
    },
    {
      "cell_type": "code",
      "source": [
        "list_of_tuples = list(zip(urls1, urls))"
      ],
      "metadata": {
        "id": "LFBdSRrRdTD3"
      },
      "execution_count": null,
      "outputs": []
    },
    {
      "cell_type": "code",
      "source": [
        "df = pd.DataFrame(list_of_tuples, columns=['Alphabets', 'Links'])"
      ],
      "metadata": {
        "id": "WE7vcjBAgSWN"
      },
      "execution_count": null,
      "outputs": []
    },
    {
      "cell_type": "code",
      "source": [
        "df\n"
      ],
      "metadata": {
        "colab": {
          "base_uri": "https://localhost:8080/",
          "height": 896
        },
        "id": "wOpILM74gmN8",
        "outputId": "f1040a48-a983-4c9a-e9a3-9375fc43a427"
      },
      "execution_count": null,
      "outputs": [
        {
          "output_type": "execute_result",
          "data": {
            "text/plain": [
              "        Alphabets                                   Links\n",
              "0   Top Societies    /rent/projects-gurgaon/all-societies\n",
              "1               a  /rent/projects-gurgaon/all-societies-a\n",
              "2               b  /rent/projects-gurgaon/all-societies-b\n",
              "3               c  /rent/projects-gurgaon/all-societies-c\n",
              "4               d  /rent/projects-gurgaon/all-societies-d\n",
              "5               e  /rent/projects-gurgaon/all-societies-e\n",
              "6               f  /rent/projects-gurgaon/all-societies-f\n",
              "7               g  /rent/projects-gurgaon/all-societies-g\n",
              "8               h  /rent/projects-gurgaon/all-societies-h\n",
              "9               i  /rent/projects-gurgaon/all-societies-i\n",
              "10              j  /rent/projects-gurgaon/all-societies-j\n",
              "11              k  /rent/projects-gurgaon/all-societies-k\n",
              "12              l  /rent/projects-gurgaon/all-societies-l\n",
              "13              m  /rent/projects-gurgaon/all-societies-m\n",
              "14              n  /rent/projects-gurgaon/all-societies-n\n",
              "15              o  /rent/projects-gurgaon/all-societies-o\n",
              "16              p  /rent/projects-gurgaon/all-societies-p\n",
              "17              q  /rent/projects-gurgaon/all-societies-q\n",
              "18              r  /rent/projects-gurgaon/all-societies-r\n",
              "19              s  /rent/projects-gurgaon/all-societies-s\n",
              "20              t  /rent/projects-gurgaon/all-societies-t\n",
              "21              u  /rent/projects-gurgaon/all-societies-u\n",
              "22              v  /rent/projects-gurgaon/all-societies-v\n",
              "23              w  /rent/projects-gurgaon/all-societies-w\n",
              "24              x  /rent/projects-gurgaon/all-societies-x\n",
              "25              y  /rent/projects-gurgaon/all-societies-y\n",
              "26              z  /rent/projects-gurgaon/all-societies-z"
            ],
            "text/html": [
              "\n",
              "  <div id=\"df-c4bfa669-093a-464b-9147-3bcd08b2bce3\">\n",
              "    <div class=\"colab-df-container\">\n",
              "      <div>\n",
              "<style scoped>\n",
              "    .dataframe tbody tr th:only-of-type {\n",
              "        vertical-align: middle;\n",
              "    }\n",
              "\n",
              "    .dataframe tbody tr th {\n",
              "        vertical-align: top;\n",
              "    }\n",
              "\n",
              "    .dataframe thead th {\n",
              "        text-align: right;\n",
              "    }\n",
              "</style>\n",
              "<table border=\"1\" class=\"dataframe\">\n",
              "  <thead>\n",
              "    <tr style=\"text-align: right;\">\n",
              "      <th></th>\n",
              "      <th>Alphabets</th>\n",
              "      <th>Links</th>\n",
              "    </tr>\n",
              "  </thead>\n",
              "  <tbody>\n",
              "    <tr>\n",
              "      <th>0</th>\n",
              "      <td>Top Societies</td>\n",
              "      <td>/rent/projects-gurgaon/all-societies</td>\n",
              "    </tr>\n",
              "    <tr>\n",
              "      <th>1</th>\n",
              "      <td>a</td>\n",
              "      <td>/rent/projects-gurgaon/all-societies-a</td>\n",
              "    </tr>\n",
              "    <tr>\n",
              "      <th>2</th>\n",
              "      <td>b</td>\n",
              "      <td>/rent/projects-gurgaon/all-societies-b</td>\n",
              "    </tr>\n",
              "    <tr>\n",
              "      <th>3</th>\n",
              "      <td>c</td>\n",
              "      <td>/rent/projects-gurgaon/all-societies-c</td>\n",
              "    </tr>\n",
              "    <tr>\n",
              "      <th>4</th>\n",
              "      <td>d</td>\n",
              "      <td>/rent/projects-gurgaon/all-societies-d</td>\n",
              "    </tr>\n",
              "    <tr>\n",
              "      <th>5</th>\n",
              "      <td>e</td>\n",
              "      <td>/rent/projects-gurgaon/all-societies-e</td>\n",
              "    </tr>\n",
              "    <tr>\n",
              "      <th>6</th>\n",
              "      <td>f</td>\n",
              "      <td>/rent/projects-gurgaon/all-societies-f</td>\n",
              "    </tr>\n",
              "    <tr>\n",
              "      <th>7</th>\n",
              "      <td>g</td>\n",
              "      <td>/rent/projects-gurgaon/all-societies-g</td>\n",
              "    </tr>\n",
              "    <tr>\n",
              "      <th>8</th>\n",
              "      <td>h</td>\n",
              "      <td>/rent/projects-gurgaon/all-societies-h</td>\n",
              "    </tr>\n",
              "    <tr>\n",
              "      <th>9</th>\n",
              "      <td>i</td>\n",
              "      <td>/rent/projects-gurgaon/all-societies-i</td>\n",
              "    </tr>\n",
              "    <tr>\n",
              "      <th>10</th>\n",
              "      <td>j</td>\n",
              "      <td>/rent/projects-gurgaon/all-societies-j</td>\n",
              "    </tr>\n",
              "    <tr>\n",
              "      <th>11</th>\n",
              "      <td>k</td>\n",
              "      <td>/rent/projects-gurgaon/all-societies-k</td>\n",
              "    </tr>\n",
              "    <tr>\n",
              "      <th>12</th>\n",
              "      <td>l</td>\n",
              "      <td>/rent/projects-gurgaon/all-societies-l</td>\n",
              "    </tr>\n",
              "    <tr>\n",
              "      <th>13</th>\n",
              "      <td>m</td>\n",
              "      <td>/rent/projects-gurgaon/all-societies-m</td>\n",
              "    </tr>\n",
              "    <tr>\n",
              "      <th>14</th>\n",
              "      <td>n</td>\n",
              "      <td>/rent/projects-gurgaon/all-societies-n</td>\n",
              "    </tr>\n",
              "    <tr>\n",
              "      <th>15</th>\n",
              "      <td>o</td>\n",
              "      <td>/rent/projects-gurgaon/all-societies-o</td>\n",
              "    </tr>\n",
              "    <tr>\n",
              "      <th>16</th>\n",
              "      <td>p</td>\n",
              "      <td>/rent/projects-gurgaon/all-societies-p</td>\n",
              "    </tr>\n",
              "    <tr>\n",
              "      <th>17</th>\n",
              "      <td>q</td>\n",
              "      <td>/rent/projects-gurgaon/all-societies-q</td>\n",
              "    </tr>\n",
              "    <tr>\n",
              "      <th>18</th>\n",
              "      <td>r</td>\n",
              "      <td>/rent/projects-gurgaon/all-societies-r</td>\n",
              "    </tr>\n",
              "    <tr>\n",
              "      <th>19</th>\n",
              "      <td>s</td>\n",
              "      <td>/rent/projects-gurgaon/all-societies-s</td>\n",
              "    </tr>\n",
              "    <tr>\n",
              "      <th>20</th>\n",
              "      <td>t</td>\n",
              "      <td>/rent/projects-gurgaon/all-societies-t</td>\n",
              "    </tr>\n",
              "    <tr>\n",
              "      <th>21</th>\n",
              "      <td>u</td>\n",
              "      <td>/rent/projects-gurgaon/all-societies-u</td>\n",
              "    </tr>\n",
              "    <tr>\n",
              "      <th>22</th>\n",
              "      <td>v</td>\n",
              "      <td>/rent/projects-gurgaon/all-societies-v</td>\n",
              "    </tr>\n",
              "    <tr>\n",
              "      <th>23</th>\n",
              "      <td>w</td>\n",
              "      <td>/rent/projects-gurgaon/all-societies-w</td>\n",
              "    </tr>\n",
              "    <tr>\n",
              "      <th>24</th>\n",
              "      <td>x</td>\n",
              "      <td>/rent/projects-gurgaon/all-societies-x</td>\n",
              "    </tr>\n",
              "    <tr>\n",
              "      <th>25</th>\n",
              "      <td>y</td>\n",
              "      <td>/rent/projects-gurgaon/all-societies-y</td>\n",
              "    </tr>\n",
              "    <tr>\n",
              "      <th>26</th>\n",
              "      <td>z</td>\n",
              "      <td>/rent/projects-gurgaon/all-societies-z</td>\n",
              "    </tr>\n",
              "  </tbody>\n",
              "</table>\n",
              "</div>\n",
              "      <button class=\"colab-df-convert\" onclick=\"convertToInteractive('df-c4bfa669-093a-464b-9147-3bcd08b2bce3')\"\n",
              "              title=\"Convert this dataframe to an interactive table.\"\n",
              "              style=\"display:none;\">\n",
              "        \n",
              "  <svg xmlns=\"http://www.w3.org/2000/svg\" height=\"24px\"viewBox=\"0 0 24 24\"\n",
              "       width=\"24px\">\n",
              "    <path d=\"M0 0h24v24H0V0z\" fill=\"none\"/>\n",
              "    <path d=\"M18.56 5.44l.94 2.06.94-2.06 2.06-.94-2.06-.94-.94-2.06-.94 2.06-2.06.94zm-11 1L8.5 8.5l.94-2.06 2.06-.94-2.06-.94L8.5 2.5l-.94 2.06-2.06.94zm10 10l.94 2.06.94-2.06 2.06-.94-2.06-.94-.94-2.06-.94 2.06-2.06.94z\"/><path d=\"M17.41 7.96l-1.37-1.37c-.4-.4-.92-.59-1.43-.59-.52 0-1.04.2-1.43.59L10.3 9.45l-7.72 7.72c-.78.78-.78 2.05 0 2.83L4 21.41c.39.39.9.59 1.41.59.51 0 1.02-.2 1.41-.59l7.78-7.78 2.81-2.81c.8-.78.8-2.07 0-2.86zM5.41 20L4 18.59l7.72-7.72 1.47 1.35L5.41 20z\"/>\n",
              "  </svg>\n",
              "      </button>\n",
              "      \n",
              "  <style>\n",
              "    .colab-df-container {\n",
              "      display:flex;\n",
              "      flex-wrap:wrap;\n",
              "      gap: 12px;\n",
              "    }\n",
              "\n",
              "    .colab-df-convert {\n",
              "      background-color: #E8F0FE;\n",
              "      border: none;\n",
              "      border-radius: 50%;\n",
              "      cursor: pointer;\n",
              "      display: none;\n",
              "      fill: #1967D2;\n",
              "      height: 32px;\n",
              "      padding: 0 0 0 0;\n",
              "      width: 32px;\n",
              "    }\n",
              "\n",
              "    .colab-df-convert:hover {\n",
              "      background-color: #E2EBFA;\n",
              "      box-shadow: 0px 1px 2px rgba(60, 64, 67, 0.3), 0px 1px 3px 1px rgba(60, 64, 67, 0.15);\n",
              "      fill: #174EA6;\n",
              "    }\n",
              "\n",
              "    [theme=dark] .colab-df-convert {\n",
              "      background-color: #3B4455;\n",
              "      fill: #D2E3FC;\n",
              "    }\n",
              "\n",
              "    [theme=dark] .colab-df-convert:hover {\n",
              "      background-color: #434B5C;\n",
              "      box-shadow: 0px 1px 3px 1px rgba(0, 0, 0, 0.15);\n",
              "      filter: drop-shadow(0px 1px 2px rgba(0, 0, 0, 0.3));\n",
              "      fill: #FFFFFF;\n",
              "    }\n",
              "  </style>\n",
              "\n",
              "      <script>\n",
              "        const buttonEl =\n",
              "          document.querySelector('#df-c4bfa669-093a-464b-9147-3bcd08b2bce3 button.colab-df-convert');\n",
              "        buttonEl.style.display =\n",
              "          google.colab.kernel.accessAllowed ? 'block' : 'none';\n",
              "\n",
              "        async function convertToInteractive(key) {\n",
              "          const element = document.querySelector('#df-c4bfa669-093a-464b-9147-3bcd08b2bce3');\n",
              "          const dataTable =\n",
              "            await google.colab.kernel.invokeFunction('convertToInteractive',\n",
              "                                                     [key], {});\n",
              "          if (!dataTable) return;\n",
              "\n",
              "          const docLinkHtml = 'Like what you see? Visit the ' +\n",
              "            '<a target=\"_blank\" href=https://colab.research.google.com/notebooks/data_table.ipynb>data table notebook</a>'\n",
              "            + ' to learn more about interactive tables.';\n",
              "          element.innerHTML = '';\n",
              "          dataTable['output_type'] = 'display_data';\n",
              "          await google.colab.output.renderOutput(dataTable, element);\n",
              "          const docLink = document.createElement('div');\n",
              "          docLink.innerHTML = docLinkHtml;\n",
              "          element.appendChild(docLink);\n",
              "        }\n",
              "      </script>\n",
              "    </div>\n",
              "  </div>\n",
              "  "
            ]
          },
          "metadata": {},
          "execution_count": 15
        }
      ]
    },
    {
      "cell_type": "code",
      "source": [
        "df['Links'] = 'https://housing.com/' + df['Links'].astype(str)"
      ],
      "metadata": {
        "id": "v_SJlR8zgnGn"
      },
      "execution_count": null,
      "outputs": []
    },
    {
      "cell_type": "code",
      "source": [
        "urls =[]\n",
        "urls1 =[]"
      ],
      "metadata": {
        "id": "HOXpKK2NrrEz"
      },
      "execution_count": null,
      "outputs": []
    },
    {
      "cell_type": "code",
      "source": [
        "for links in df.Links:\n",
        "  url = links\n",
        "  page = requests.get(url)\n",
        "  soup = BeautifulSoup(page.text, 'lxml')\n",
        "  special_divs = soup.find('div', attrs={\"class\" : \"css-179hk66\"})\n",
        "  text = special_divs.findAll('a', attrs={'href': re.compile(\"^/rent/\")})\n",
        "  for x in text:\n",
        "    url = x.get('href')\n",
        "    urls.append(url)\n",
        "  text1 = special_divs.findAll('a')\n",
        "  for y in text1:\n",
        "    url = y.text\n",
        "    urls1.append(url)"
      ],
      "metadata": {
        "id": "1yyfKIhdhJdV"
      },
      "execution_count": null,
      "outputs": []
    },
    {
      "cell_type": "code",
      "source": [
        "df1 = pd.DataFrame()\n",
        "list_of_tuples = list(zip(urls1, urls))\n",
        "df1 = pd.DataFrame(list_of_tuples, columns=['Alphabets', 'Links'])"
      ],
      "metadata": {
        "id": "69Hiwkp-rbcM"
      },
      "execution_count": null,
      "outputs": []
    },
    {
      "cell_type": "code",
      "source": [
        "df1['Links'] = 'https://housing.com/' + df1['Links'].astype(str)\n",
        "df1.Links"
      ],
      "metadata": {
        "colab": {
          "base_uri": "https://localhost:8080/"
        },
        "id": "jCC5VJpkhrZp",
        "outputId": "9300fce5-6120-4c50-ea30-7af2f78de8a9"
      },
      "execution_count": null,
      "outputs": [
        {
          "output_type": "execute_result",
          "data": {
            "text/plain": [
              "0      https://housing.com//rent/m3m-sierra-68-for-re...\n",
              "1      https://housing.com//rent/arete-our-homes---3-...\n",
              "2      https://housing.com//rent/dlf-new-town-heights...\n",
              "3      https://housing.com//rent/pyramid-urban-homes-...\n",
              "4      https://housing.com//rent/apex-our-homes-for-r...\n",
              "                             ...                        \n",
              "877    https://housing.com//rent/vaastu-for-rent-in-s...\n",
              "878    https://housing.com//rent/ashley-whitehousz-ni...\n",
              "879    https://housing.com//rent/yadav-for-rent-in-se...\n",
              "880    https://housing.com//rent/zara-aavaas-for-rent...\n",
              "881    https://housing.com//rent/zion-brothers-apartm...\n",
              "Name: Links, Length: 882, dtype: object"
            ]
          },
          "metadata": {},
          "execution_count": 20
        }
      ]
    },
    {
      "cell_type": "code",
      "source": [
        "df1.Links[0]"
      ],
      "metadata": {
        "colab": {
          "base_uri": "https://localhost:8080/",
          "height": 35
        },
        "id": "PZbhfYaO0M3x",
        "outputId": "026df677-1ec3-4bac-a859-01b33f3756bb"
      },
      "execution_count": null,
      "outputs": [
        {
          "output_type": "execute_result",
          "data": {
            "text/plain": [
              "'https://housing.com//rent/m3m-sierra-68-for-rent-in-sector-68-gurgaon-AGrkiAH0'"
            ],
            "application/vnd.google.colaboratory.intrinsic+json": {
              "type": "string"
            }
          },
          "metadata": {},
          "execution_count": 21
        }
      ]
    },
    {
      "cell_type": "code",
      "source": [
        "Price = []\n",
        "Type = []\n",
        "Location = [] \n",
        "Furnished_type = []\n",
        "Squares = []\n",
        "Society_Name = []"
      ],
      "metadata": {
        "id": "x-ryng0qxcFb"
      },
      "execution_count": null,
      "outputs": []
    },
    {
      "cell_type": "code",
      "source": [
        "for ind in df1.index:\n",
        "  url = df1['Links'][ind]\n",
        "  page = requests.get(url)\n",
        "  soup = BeautifulSoup(page.text, 'lxml')\n",
        "  special = soup.find_all('div', attrs={\"class\" : \"css-1cxwewr\"})\n",
        "  for x in special:\n",
        "    Price.append(x.text)\n",
        "    Society_Name.append(df1['Alphabets'][ind])\n",
        "  special = soup.find_all('div', attrs={\"class\" : \"css-11nfaq3\"})\n",
        "  for x in special:\n",
        "    Type.append(x.text)"
      ],
      "metadata": {
        "id": "qiNUlD2cxWeX"
      },
      "execution_count": null,
      "outputs": []
    },
    {
      "cell_type": "code",
      "source": [
        "df2"
      ],
      "metadata": {
        "colab": {
          "base_uri": "https://localhost:8080/",
          "height": 166
        },
        "id": "UigHKmm1NOzW",
        "outputId": "f2672c82-0682-4d0c-d5b2-7e7e4e88433d"
      },
      "execution_count": null,
      "outputs": [
        {
          "output_type": "error",
          "ename": "NameError",
          "evalue": "ignored",
          "traceback": [
            "\u001b[0;31m---------------------------------------------------------------------------\u001b[0m",
            "\u001b[0;31mNameError\u001b[0m                                 Traceback (most recent call last)",
            "\u001b[0;32m<ipython-input-191-2068723f1203>\u001b[0m in \u001b[0;36m<module>\u001b[0;34m()\u001b[0m\n\u001b[0;32m----> 1\u001b[0;31m \u001b[0mdf2\u001b[0m\u001b[0;34m\u001b[0m\u001b[0;34m\u001b[0m\u001b[0m\n\u001b[0m",
            "\u001b[0;31mNameError\u001b[0m: name 'df2' is not defined"
          ]
        }
      ]
    },
    {
      "cell_type": "code",
      "source": [
        "df2 = pd.DataFrame()\n",
        "list_of_tuples = list(zip(Price, Type, Location, Squares))\n",
        "df2 = pd.DataFrame(list_of_tuples, columns=['Price', 'Type', 'Location', 'Squares'])\n"
      ],
      "metadata": {
        "id": "mR8N6JUoE_fa"
      },
      "execution_count": null,
      "outputs": []
    },
    {
      "cell_type": "code",
      "source": [
        "df2.to_csv('file1.csv')"
      ],
      "metadata": {
        "id": "1SV2ObpBPJwG"
      },
      "execution_count": null,
      "outputs": []
    },
    {
      "cell_type": "code",
      "source": [
        "df3 = pd.DataFrame()"
      ],
      "metadata": {
        "id": "bgRc7PxqCZCL"
      },
      "execution_count": null,
      "outputs": []
    },
    {
      "cell_type": "code",
      "source": [
        "for ind in df1.index:\n",
        "  url = df1['Links'][ind]\n",
        "  page = requests.get(url)\n",
        "  soup = BeautifulSoup(page.text, 'lxml')\n",
        "  #url = \"https://housing.com/rent/m3m-sierra-68-for-rent-in-sector-68-gurgaon-AGrkiAH0\"\n",
        "  #page = requests.get(url)\n",
        "  #soup = BeautifulSoup(page.text, 'lxml')\n",
        "  for element in soup.find_all('div', attrs={\"class\" : \"css-79elbk\"}):\n",
        "    Price.append(element.find('div', attrs={'class': 'css-1cxwewr'}).text)\n",
        "    Type.append(element.find('div', attrs={'class': 'css-11nfaq3'}).text)\n",
        "    Location.append(element.find('div', attrs={'class': 'css-26olqx'}).text)\n",
        "    Squares.append(element.find('div', attrs={'class': 'css-14teu4h'}).text)\n",
        "\n",
        "\n"
      ],
      "metadata": {
        "id": "GKZcV8pf439W"
      },
      "execution_count": null,
      "outputs": []
    },
    {
      "cell_type": "code",
      "source": [
        "df = pd.DataFrame()"
      ],
      "metadata": {
        "id": "yctCqa2t4a-_"
      },
      "execution_count": null,
      "outputs": []
    },
    {
      "cell_type": "code",
      "source": [
        "df = pd.DataFrame(columns = {\"Price\",\"Type\", \"Address\",\"Area\"})"
      ],
      "metadata": {
        "id": "XnS24WYTCmg9"
      },
      "execution_count": null,
      "outputs": []
    },
    {
      "cell_type": "code",
      "source": [
        "df[\"Price\"].append(price)"
      ],
      "metadata": {
        "colab": {
          "base_uri": "https://localhost:8080/",
          "height": 329
        },
        "id": "nMpk8zLlDBM_",
        "outputId": "a78a1d00-839c-4e1a-dec8-5b4f935f7525"
      },
      "execution_count": null,
      "outputs": [
        {
          "output_type": "error",
          "ename": "TypeError",
          "evalue": "ignored",
          "traceback": [
            "\u001b[0;31m---------------------------------------------------------------------------\u001b[0m",
            "\u001b[0;31mTypeError\u001b[0m                                 Traceback (most recent call last)",
            "\u001b[0;32m<ipython-input-47-ca6d848876ad>\u001b[0m in \u001b[0;36m<module>\u001b[0;34m()\u001b[0m\n\u001b[0;32m----> 1\u001b[0;31m \u001b[0mdf\u001b[0m\u001b[0;34m[\u001b[0m\u001b[0;34m\"Price\"\u001b[0m\u001b[0;34m]\u001b[0m\u001b[0;34m.\u001b[0m\u001b[0mappend\u001b[0m\u001b[0;34m(\u001b[0m\u001b[0mprice\u001b[0m\u001b[0;34m)\u001b[0m\u001b[0;34m\u001b[0m\u001b[0;34m\u001b[0m\u001b[0m\n\u001b[0m",
            "\u001b[0;32m/usr/local/lib/python3.7/dist-packages/pandas/core/series.py\u001b[0m in \u001b[0;36mappend\u001b[0;34m(self, to_append, ignore_index, verify_integrity)\u001b[0m\n\u001b[1;32m   2876\u001b[0m             \u001b[0;32mraise\u001b[0m \u001b[0mTypeError\u001b[0m\u001b[0;34m(\u001b[0m\u001b[0mmsg\u001b[0m\u001b[0;34m)\u001b[0m\u001b[0;34m\u001b[0m\u001b[0;34m\u001b[0m\u001b[0m\n\u001b[1;32m   2877\u001b[0m         return concat(\n\u001b[0;32m-> 2878\u001b[0;31m             \u001b[0mto_concat\u001b[0m\u001b[0;34m,\u001b[0m \u001b[0mignore_index\u001b[0m\u001b[0;34m=\u001b[0m\u001b[0mignore_index\u001b[0m\u001b[0;34m,\u001b[0m \u001b[0mverify_integrity\u001b[0m\u001b[0;34m=\u001b[0m\u001b[0mverify_integrity\u001b[0m\u001b[0;34m\u001b[0m\u001b[0;34m\u001b[0m\u001b[0m\n\u001b[0m\u001b[1;32m   2879\u001b[0m         )\n\u001b[1;32m   2880\u001b[0m \u001b[0;34m\u001b[0m\u001b[0m\n",
            "\u001b[0;32m/usr/local/lib/python3.7/dist-packages/pandas/util/_decorators.py\u001b[0m in \u001b[0;36mwrapper\u001b[0;34m(*args, **kwargs)\u001b[0m\n\u001b[1;32m    309\u001b[0m                     \u001b[0mstacklevel\u001b[0m\u001b[0;34m=\u001b[0m\u001b[0mstacklevel\u001b[0m\u001b[0;34m,\u001b[0m\u001b[0;34m\u001b[0m\u001b[0;34m\u001b[0m\u001b[0m\n\u001b[1;32m    310\u001b[0m                 )\n\u001b[0;32m--> 311\u001b[0;31m             \u001b[0;32mreturn\u001b[0m \u001b[0mfunc\u001b[0m\u001b[0;34m(\u001b[0m\u001b[0;34m*\u001b[0m\u001b[0margs\u001b[0m\u001b[0;34m,\u001b[0m \u001b[0;34m**\u001b[0m\u001b[0mkwargs\u001b[0m\u001b[0;34m)\u001b[0m\u001b[0;34m\u001b[0m\u001b[0;34m\u001b[0m\u001b[0m\n\u001b[0m\u001b[1;32m    312\u001b[0m \u001b[0;34m\u001b[0m\u001b[0m\n\u001b[1;32m    313\u001b[0m         \u001b[0;32mreturn\u001b[0m \u001b[0mwrapper\u001b[0m\u001b[0;34m\u001b[0m\u001b[0;34m\u001b[0m\u001b[0m\n",
            "\u001b[0;32m/usr/local/lib/python3.7/dist-packages/pandas/core/reshape/concat.py\u001b[0m in \u001b[0;36mconcat\u001b[0;34m(objs, axis, join, ignore_index, keys, levels, names, verify_integrity, sort, copy)\u001b[0m\n\u001b[1;32m    302\u001b[0m         \u001b[0mverify_integrity\u001b[0m\u001b[0;34m=\u001b[0m\u001b[0mverify_integrity\u001b[0m\u001b[0;34m,\u001b[0m\u001b[0;34m\u001b[0m\u001b[0;34m\u001b[0m\u001b[0m\n\u001b[1;32m    303\u001b[0m         \u001b[0mcopy\u001b[0m\u001b[0;34m=\u001b[0m\u001b[0mcopy\u001b[0m\u001b[0;34m,\u001b[0m\u001b[0;34m\u001b[0m\u001b[0;34m\u001b[0m\u001b[0m\n\u001b[0;32m--> 304\u001b[0;31m         \u001b[0msort\u001b[0m\u001b[0;34m=\u001b[0m\u001b[0msort\u001b[0m\u001b[0;34m,\u001b[0m\u001b[0;34m\u001b[0m\u001b[0;34m\u001b[0m\u001b[0m\n\u001b[0m\u001b[1;32m    305\u001b[0m     )\n\u001b[1;32m    306\u001b[0m \u001b[0;34m\u001b[0m\u001b[0m\n",
            "\u001b[0;32m/usr/local/lib/python3.7/dist-packages/pandas/core/reshape/concat.py\u001b[0m in \u001b[0;36m__init__\u001b[0;34m(self, objs, axis, join, keys, levels, names, ignore_index, verify_integrity, copy, sort)\u001b[0m\n\u001b[1;32m    382\u001b[0m                     \u001b[0;34m\"only Series and DataFrame objs are valid\"\u001b[0m\u001b[0;34m\u001b[0m\u001b[0;34m\u001b[0m\u001b[0m\n\u001b[1;32m    383\u001b[0m                 )\n\u001b[0;32m--> 384\u001b[0;31m                 \u001b[0;32mraise\u001b[0m \u001b[0mTypeError\u001b[0m\u001b[0;34m(\u001b[0m\u001b[0mmsg\u001b[0m\u001b[0;34m)\u001b[0m\u001b[0;34m\u001b[0m\u001b[0;34m\u001b[0m\u001b[0m\n\u001b[0m\u001b[1;32m    385\u001b[0m \u001b[0;34m\u001b[0m\u001b[0m\n\u001b[1;32m    386\u001b[0m             \u001b[0mndims\u001b[0m\u001b[0;34m.\u001b[0m\u001b[0madd\u001b[0m\u001b[0;34m(\u001b[0m\u001b[0mobj\u001b[0m\u001b[0;34m.\u001b[0m\u001b[0mndim\u001b[0m\u001b[0;34m)\u001b[0m\u001b[0;34m\u001b[0m\u001b[0;34m\u001b[0m\u001b[0m\n",
            "\u001b[0;31mTypeError\u001b[0m: cannot concatenate object of type '<class 'str'>'; only Series and DataFrame objs are valid"
          ]
        }
      ]
    },
    {
      "cell_type": "code",
      "source": [],
      "metadata": {
        "id": "V3Ls5WJCDBzF"
      },
      "execution_count": null,
      "outputs": []
    }
  ]
}